{
 "cells": [
  {
   "cell_type": "code",
   "execution_count": 2,
   "id": "0670f68d-85db-461f-9726-1bbdc2268eb9",
   "metadata": {},
   "outputs": [
    {
     "data": {
      "text/plain": [
       "3"
      ]
     },
     "execution_count": 2,
     "metadata": {},
     "output_type": "execute_result"
    }
   ],
   "source": [
    "1+2"
   ]
  },
  {
   "cell_type": "code",
   "execution_count": 3,
   "id": "2b63fe44-1e37-48d2-894f-8a3fa69d80ad",
   "metadata": {},
   "outputs": [],
   "source": [
    "a=10"
   ]
  },
  {
   "cell_type": "code",
   "execution_count": 4,
   "id": "dfb4ea3f-66f2-4ddf-a6af-78ade8d29d51",
   "metadata": {},
   "outputs": [
    {
     "data": {
      "text/plain": [
       "10"
      ]
     },
     "execution_count": 4,
     "metadata": {},
     "output_type": "execute_result"
    }
   ],
   "source": [
    "a"
   ]
  },
  {
   "cell_type": "code",
   "execution_count": 5,
   "id": "7cbbc52d-0296-4c0c-a207-c66cc2b9aec7",
   "metadata": {},
   "outputs": [],
   "source": [
    "r2 = 348493"
   ]
  },
  {
   "cell_type": "code",
   "execution_count": 6,
   "id": "f1fbf492-5af6-4f8b-9f32-da7a1fea14b1",
   "metadata": {},
   "outputs": [
    {
     "data": {
      "text/plain": [
       "348493"
      ]
     },
     "execution_count": 6,
     "metadata": {},
     "output_type": "execute_result"
    }
   ],
   "source": [
    "r2"
   ]
  },
  {
   "cell_type": "code",
   "execution_count": 7,
   "id": "84ae1629-577c-4d68-84a7-0c7ad625e249",
   "metadata": {},
   "outputs": [
    {
     "data": {
      "text/plain": [
       "int"
      ]
     },
     "execution_count": 7,
     "metadata": {},
     "output_type": "execute_result"
    }
   ],
   "source": [
    "type(r2)"
   ]
  },
  {
   "cell_type": "code",
   "execution_count": 10,
   "id": "ae07c5a8-362f-4a8a-bb6b-25a166f0f742",
   "metadata": {},
   "outputs": [],
   "source": [
    "s = \"pwskills\"\n",
    "#whenever you want to create s string keep inside a \"\" or'' ."
   ]
  },
  {
   "cell_type": "code",
   "execution_count": 11,
   "id": "655a26d4-981e-4e0d-8ca6-af7f5d867e01",
   "metadata": {},
   "outputs": [
    {
     "data": {
      "text/plain": [
       "str"
      ]
     },
     "execution_count": 11,
     "metadata": {},
     "output_type": "execute_result"
    }
   ],
   "source": [
    "type(s)"
   ]
  },
  {
   "cell_type": "code",
   "execution_count": 12,
   "id": "01652dab-60e1-4ef7-87a6-dd5c2bcb34c4",
   "metadata": {},
   "outputs": [],
   "source": [
    "s1 = 'this is 1st python lecture'"
   ]
  },
  {
   "cell_type": "code",
   "execution_count": 14,
   "id": "2e506297-cd07-4c19-88b1-b61ad4548fc0",
   "metadata": {},
   "outputs": [
    {
     "data": {
      "text/plain": [
       "str"
      ]
     },
     "execution_count": 14,
     "metadata": {},
     "output_type": "execute_result"
    }
   ],
   "source": [
    "s1\n",
    "type(s1)"
   ]
  },
  {
   "cell_type": "code",
   "execution_count": 15,
   "id": "be0ee7f4-2ef0-444a-870f-5f8610745ea2",
   "metadata": {},
   "outputs": [],
   "source": [
    "f = 2.365"
   ]
  },
  {
   "cell_type": "code",
   "execution_count": 16,
   "id": "0ef95a72-f310-45f0-8824-99055904f9b5",
   "metadata": {},
   "outputs": [
    {
     "data": {
      "text/plain": [
       "float"
      ]
     },
     "execution_count": 16,
     "metadata": {},
     "output_type": "execute_result"
    }
   ],
   "source": [
    "type(f)"
   ]
  },
  {
   "cell_type": "code",
   "execution_count": 17,
   "id": "84ea67f2-0c5c-4c84-9140-d5f8f70a0a7b",
   "metadata": {},
   "outputs": [],
   "source": [
    "c = 5 + 9j"
   ]
  },
  {
   "cell_type": "code",
   "execution_count": 18,
   "id": "3b68ab2c-1ce1-4ed0-af21-3c4c86b4baed",
   "metadata": {},
   "outputs": [
    {
     "data": {
      "text/plain": [
       "complex"
      ]
     },
     "execution_count": 18,
     "metadata": {},
     "output_type": "execute_result"
    }
   ],
   "source": [
    "type(c)"
   ]
  },
  {
   "cell_type": "code",
   "execution_count": 26,
   "id": "91391a9d-4b30-4bbd-9813-cba3a8ae5e90",
   "metadata": {},
   "outputs": [
    {
     "data": {
      "text/plain": [
       "5.0"
      ]
     },
     "execution_count": 26,
     "metadata": {},
     "output_type": "execute_result"
    }
   ],
   "source": [
    "c.real\n",
    "#type(c.real)"
   ]
  },
  {
   "cell_type": "code",
   "execution_count": 20,
   "id": "91cdbfc9-d47c-4e90-9c4b-10fab7a05c07",
   "metadata": {},
   "outputs": [
    {
     "data": {
      "text/plain": [
       "9.0"
      ]
     },
     "execution_count": 20,
     "metadata": {},
     "output_type": "execute_result"
    }
   ],
   "source": [
    "c.imag"
   ]
  },
  {
   "cell_type": "code",
   "execution_count": 21,
   "id": "70a873af-cef3-47e7-9f24-f00b0ad9c4d7",
   "metadata": {},
   "outputs": [],
   "source": [
    "b =True"
   ]
  },
  {
   "cell_type": "code",
   "execution_count": 22,
   "id": "5b06fb22-0a93-44af-97d2-2931788247a8",
   "metadata": {},
   "outputs": [
    {
     "data": {
      "text/plain": [
       "bool"
      ]
     },
     "execution_count": 22,
     "metadata": {},
     "output_type": "execute_result"
    }
   ],
   "source": [
    "type(b)"
   ]
  },
  {
   "cell_type": "code",
   "execution_count": 23,
   "id": "977c38bc-2746-4090-94d5-6e355c015404",
   "metadata": {},
   "outputs": [],
   "source": [
    "b1 = False"
   ]
  },
  {
   "cell_type": "code",
   "execution_count": 24,
   "id": "11354886-6d51-454d-adf5-0bff01b40200",
   "metadata": {},
   "outputs": [
    {
     "data": {
      "text/plain": [
       "bool"
      ]
     },
     "execution_count": 24,
     "metadata": {},
     "output_type": "execute_result"
    }
   ],
   "source": [
    "type(b1)"
   ]
  },
  {
   "cell_type": "code",
   "execution_count": 27,
   "id": "891127d6-7600-44f7-8a5d-d262d7e79ca9",
   "metadata": {},
   "outputs": [],
   "source": [
    "a1=34\n",
    "a2=98"
   ]
  },
  {
   "cell_type": "code",
   "execution_count": 28,
   "id": "b39e4c45-7c7e-41e7-b462-41216f280b2f",
   "metadata": {},
   "outputs": [
    {
     "data": {
      "text/plain": [
       "132"
      ]
     },
     "execution_count": 28,
     "metadata": {},
     "output_type": "execute_result"
    }
   ],
   "source": [
    "a1+a2"
   ]
  },
  {
   "cell_type": "code",
   "execution_count": 29,
   "id": "ad21ba5b-bbbe-4c6c-ba8d-144105a457c7",
   "metadata": {},
   "outputs": [
    {
     "data": {
      "text/plain": [
       "3332"
      ]
     },
     "execution_count": 29,
     "metadata": {},
     "output_type": "execute_result"
    }
   ],
   "source": [
    "a1*a2"
   ]
  },
  {
   "cell_type": "code",
   "execution_count": 30,
   "id": "7791c6b7-e369-43b8-b93e-f10736478cc2",
   "metadata": {},
   "outputs": [
    {
     "data": {
      "text/plain": [
       "0.3469387755102041"
      ]
     },
     "execution_count": 30,
     "metadata": {},
     "output_type": "execute_result"
    }
   ],
   "source": [
    "a1/a2"
   ]
  },
  {
   "cell_type": "code",
   "execution_count": 31,
   "id": "544101fc-cec2-4140-90a5-475bf7cd55e7",
   "metadata": {},
   "outputs": [
    {
     "data": {
      "text/plain": [
       "-64"
      ]
     },
     "execution_count": 31,
     "metadata": {},
     "output_type": "execute_result"
    }
   ],
   "source": [
    "a1-a2"
   ]
  },
  {
   "cell_type": "code",
   "execution_count": 32,
   "id": "20c942eb-e946-4b73-933e-877912002fc9",
   "metadata": {},
   "outputs": [],
   "source": [
    "a1 , a2 = 34 ,98"
   ]
  },
  {
   "cell_type": "code",
   "execution_count": 33,
   "id": "59685334-a3e4-454b-bf19-b2e1de5d276d",
   "metadata": {},
   "outputs": [
    {
     "data": {
      "text/plain": [
       "34"
      ]
     },
     "execution_count": 33,
     "metadata": {},
     "output_type": "execute_result"
    }
   ],
   "source": [
    "a1"
   ]
  },
  {
   "cell_type": "code",
   "execution_count": 34,
   "id": "3e4c954d-0ff0-4d05-a068-385681a447ec",
   "metadata": {},
   "outputs": [
    {
     "data": {
      "text/plain": [
       "98"
      ]
     },
     "execution_count": 34,
     "metadata": {},
     "output_type": "execute_result"
    }
   ],
   "source": [
    "a2"
   ]
  },
  {
   "cell_type": "code",
   "execution_count": 35,
   "id": "cfb93137-c2e0-496f-967d-fee341809b6b",
   "metadata": {},
   "outputs": [],
   "source": [
    "a,b,c,d = 23, \"skd\" , 3.45, True"
   ]
  },
  {
   "cell_type": "code",
   "execution_count": 36,
   "id": "aecd3e36-ef00-48ab-8af8-94fb246d3dba",
   "metadata": {},
   "outputs": [
    {
     "name": "stdout",
     "output_type": "stream",
     "text": [
      "23\n",
      "skd\n",
      "3.45\n",
      "True\n"
     ]
    }
   ],
   "source": [
    "print(a)\n",
    "print(b)\n",
    "print(c)\n",
    "print(d)"
   ]
  },
  {
   "cell_type": "code",
   "execution_count": 40,
   "id": "e8d08047-b5ae-45a6-bb25-52806acc8075",
   "metadata": {},
   "outputs": [
    {
     "name": "stderr",
     "output_type": "stream",
     "text": [
      "UsageError: Line magic function `%h` not found.\n"
     ]
    }
   ],
   "source": [
    "%h = 234\n",
    "# % is not allowed in defining variable as it is special character"
   ]
  },
  {
   "cell_type": "code",
   "execution_count": 42,
   "id": "7018cb82-56af-43a0-aace-8c1a69454bee",
   "metadata": {},
   "outputs": [
    {
     "ename": "SyntaxError",
     "evalue": "invalid decimal literal (2343253410.py, line 1)",
     "output_type": "error",
     "traceback": [
      "\u001b[0;36m  Cell \u001b[0;32mIn[42], line 1\u001b[0;36m\u001b[0m\n\u001b[0;31m    4b = 798\u001b[0m\n\u001b[0m    ^\u001b[0m\n\u001b[0;31mSyntaxError\u001b[0m\u001b[0;31m:\u001b[0m invalid decimal literal\n"
     ]
    }
   ],
   "source": [
    "4b = 798\n",
    "# cant use number at start for vaiable"
   ]
  },
  {
   "cell_type": "code",
   "execution_count": 44,
   "id": "317c730f-29aa-4c08-ac86-6c008ca087a0",
   "metadata": {},
   "outputs": [],
   "source": [
    "_r = 33\n",
    "# we can use _ at statrt of variable"
   ]
  },
  {
   "cell_type": "code",
   "execution_count": 46,
   "id": "bbfaedc3-003c-4ae8-8c4b-263709c11361",
   "metadata": {},
   "outputs": [
    {
     "ename": "SyntaxError",
     "evalue": "cannot assign to True (1213035639.py, line 1)",
     "output_type": "error",
     "traceback": [
      "\u001b[0;36m  Cell \u001b[0;32mIn[46], line 1\u001b[0;36m\u001b[0m\n\u001b[0;31m    True = 77\u001b[0m\n\u001b[0m    ^\u001b[0m\n\u001b[0;31mSyntaxError\u001b[0m\u001b[0;31m:\u001b[0m cannot assign to True\n"
     ]
    }
   ],
   "source": [
    "True = 77\n",
    "# True cant use as variable name as it is reserved keyword"
   ]
  },
  {
   "cell_type": "code",
   "execution_count": 49,
   "id": "c0eb3e3f-0f73-4ac2-b16d-8c41a0f61766",
   "metadata": {},
   "outputs": [],
   "source": [
    "int =67\n",
    "# here we have use int but cant able to use further due to reserve keyword"
   ]
  },
  {
   "cell_type": "code",
   "execution_count": 50,
   "id": "d1f4e9c7-b7e0-417a-bf57-825102e82d6f",
   "metadata": {},
   "outputs": [],
   "source": [
    "b1 = True"
   ]
  },
  {
   "cell_type": "code",
   "execution_count": 51,
   "id": "4e61a3ad-21a6-4711-b377-a75ece8d625e",
   "metadata": {},
   "outputs": [],
   "source": [
    "b2 = False"
   ]
  },
  {
   "cell_type": "code",
   "execution_count": 54,
   "id": "cc0cad69-98bb-4dc1-b2b5-8fad143b6fab",
   "metadata": {},
   "outputs": [
    {
     "data": {
      "text/plain": [
       "1"
      ]
     },
     "execution_count": 54,
     "metadata": {},
     "output_type": "execute_result"
    }
   ],
   "source": [
    "b1 - b2\n",
    "#here bool var are stored as \"1\" and \"0\" in memory"
   ]
  },
  {
   "cell_type": "code",
   "execution_count": 55,
   "id": "b3bef3fa-d421-4dfd-82ae-48b7568c89b4",
   "metadata": {},
   "outputs": [
    {
     "ename": "ZeroDivisionError",
     "evalue": "division by zero",
     "output_type": "error",
     "traceback": [
      "\u001b[0;31m---------------------------------------------------------------------------\u001b[0m",
      "\u001b[0;31mZeroDivisionError\u001b[0m                         Traceback (most recent call last)",
      "Cell \u001b[0;32mIn[55], line 1\u001b[0m\n\u001b[0;32m----> 1\u001b[0m \u001b[43mb1\u001b[49m\u001b[38;5;241;43m/\u001b[39;49m\u001b[43mb2\u001b[49m\n",
      "\u001b[0;31mZeroDivisionError\u001b[0m: division by zero"
     ]
    }
   ],
   "source": [
    "b1/b2"
   ]
  },
  {
   "cell_type": "code",
   "execution_count": 56,
   "id": "4b641c7b-153d-4f50-957b-53b05b4a853c",
   "metadata": {},
   "outputs": [
    {
     "ename": "SyntaxError",
     "evalue": "unterminated string literal (detected at line 1) (3392719435.py, line 1)",
     "output_type": "error",
     "traceback": [
      "\u001b[0;36m  Cell \u001b[0;32mIn[56], line 1\u001b[0;36m\u001b[0m\n\u001b[0;31m    s2 = 'this is my ist master's'\u001b[0m\n\u001b[0m                                 ^\u001b[0m\n\u001b[0;31mSyntaxError\u001b[0m\u001b[0;31m:\u001b[0m unterminated string literal (detected at line 1)\n"
     ]
    }
   ],
   "source": [
    "s2 = 'this is my ist master's'"
   ]
  },
  {
   "cell_type": "code",
   "execution_count": 57,
   "id": "8b98c9ca-bbb2-489e-a42f-ece1c2d9b3a9",
   "metadata": {},
   "outputs": [],
   "source": [
    "s2= \"this is my 1st master's\""
   ]
  },
  {
   "cell_type": "code",
   "execution_count": 58,
   "id": "23fa8d92-ae38-4d5d-b812-c88d9f7a374b",
   "metadata": {},
   "outputs": [],
   "source": [
    "s2 = 'this is my \"masters\"'"
   ]
  },
  {
   "cell_type": "code",
   "execution_count": 60,
   "id": "bd3bca86-00f3-4afa-9f7b-698aaa4ef202",
   "metadata": {},
   "outputs": [
    {
     "data": {
      "text/plain": [
       "' this is used\\nfor multi line\\ncomment'"
      ]
     },
     "execution_count": 60,
     "metadata": {},
     "output_type": "execute_result"
    }
   ],
   "source": [
    "''' this is used\n",
    "for multi line\n",
    "comment'''"
   ]
  },
  {
   "cell_type": "code",
   "execution_count": 5,
   "id": "6f372be3-9e05-40ae-a0f8-493c5f04a147",
   "metadata": {},
   "outputs": [],
   "source": [
    "s1 = 'ert'"
   ]
  },
  {
   "cell_type": "code",
   "execution_count": 6,
   "id": "eb7af377-e5ed-4c97-863e-1d525ddd2546",
   "metadata": {},
   "outputs": [],
   "source": [
    "a= 10"
   ]
  },
  {
   "cell_type": "code",
   "execution_count": 7,
   "id": "da0e35c5-42f0-4fb7-9234-c90e8a064e69",
   "metadata": {},
   "outputs": [
    {
     "ename": "TypeError",
     "evalue": "can only concatenate str (not \"int\") to str",
     "output_type": "error",
     "traceback": [
      "\u001b[0;31m---------------------------------------------------------------------------\u001b[0m",
      "\u001b[0;31mTypeError\u001b[0m                                 Traceback (most recent call last)",
      "Cell \u001b[0;32mIn[7], line 1\u001b[0m\n\u001b[0;32m----> 1\u001b[0m \u001b[43ms1\u001b[49m\u001b[43m \u001b[49m\u001b[38;5;241;43m+\u001b[39;49m\u001b[43m \u001b[49m\u001b[43ma\u001b[49m\n\u001b[1;32m      2\u001b[0m \u001b[38;5;66;03m# we can use + to concatenate str with other str\u001b[39;00m\n",
      "\u001b[0;31mTypeError\u001b[0m: can only concatenate str (not \"int\") to str"
     ]
    }
   ],
   "source": [
    "s1 + a\n",
    "# we can use + to concatenate str with other str"
   ]
  },
  {
   "cell_type": "code",
   "execution_count": 8,
   "id": "9b98a732-f1f6-463c-9344-c2592021323c",
   "metadata": {},
   "outputs": [
    {
     "data": {
      "text/plain": [
       "'rohanshinde'"
      ]
     },
     "execution_count": 8,
     "metadata": {},
     "output_type": "execute_result"
    }
   ],
   "source": [
    "'rohan' + 'shinde'"
   ]
  },
  {
   "cell_type": "code",
   "execution_count": 9,
   "id": "dca6ecf3-4cca-4753-8f34-4dd2aecdda52",
   "metadata": {},
   "outputs": [
    {
     "data": {
      "text/plain": [
       "'ert10'"
      ]
     },
     "execution_count": 9,
     "metadata": {},
     "output_type": "execute_result"
    }
   ],
   "source": [
    "s1 + str(a)\n",
    "# str() has converted int to str data type"
   ]
  },
  {
   "cell_type": "code",
   "execution_count": 10,
   "id": "00d3347a-3ab0-4a4c-9aa9-8e1dad7b855c",
   "metadata": {},
   "outputs": [
    {
     "data": {
      "text/plain": [
       "'ert 10'"
      ]
     },
     "execution_count": 10,
     "metadata": {},
     "output_type": "execute_result"
    }
   ],
   "source": [
    "s1 + \" \" + str(a)"
   ]
  },
  {
   "cell_type": "code",
   "execution_count": 11,
   "id": "18e0c040-0357-4461-8e67-11c31242e45d",
   "metadata": {},
   "outputs": [],
   "source": [
    "b= str(a)"
   ]
  },
  {
   "cell_type": "code",
   "execution_count": 12,
   "id": "f888c3fc-6e9b-466f-8c8d-c0a0b92e301b",
   "metadata": {},
   "outputs": [
    {
     "data": {
      "text/plain": [
       "'10'"
      ]
     },
     "execution_count": 12,
     "metadata": {},
     "output_type": "execute_result"
    }
   ],
   "source": [
    "b"
   ]
  },
  {
   "cell_type": "code",
   "execution_count": 13,
   "id": "c6e6259e-b64c-476d-9c80-ee24968e3eb5",
   "metadata": {},
   "outputs": [
    {
     "data": {
      "text/plain": [
       "10"
      ]
     },
     "execution_count": 13,
     "metadata": {},
     "output_type": "execute_result"
    }
   ],
   "source": [
    "int(b)\n",
    "# refer cell no. 49 since int is already used"
   ]
  },
  {
   "cell_type": "code",
   "execution_count": 14,
   "id": "0521c45c-0268-4ed6-b5ea-95c32e67cb1f",
   "metadata": {},
   "outputs": [],
   "source": [
    "s = \"wiu\""
   ]
  },
  {
   "cell_type": "code",
   "execution_count": 16,
   "id": "94acb2fb-df21-481a-9ceb-2237f494d7fd",
   "metadata": {},
   "outputs": [
    {
     "ename": "ValueError",
     "evalue": "invalid literal for int() with base 10: 'wiu'",
     "output_type": "error",
     "traceback": [
      "\u001b[0;31m---------------------------------------------------------------------------\u001b[0m",
      "\u001b[0;31mValueError\u001b[0m                                Traceback (most recent call last)",
      "Cell \u001b[0;32mIn[16], line 1\u001b[0m\n\u001b[0;32m----> 1\u001b[0m \u001b[38;5;28;43mint\u001b[39;49m\u001b[43m(\u001b[49m\u001b[43ms\u001b[49m\u001b[43m)\u001b[49m\n\u001b[1;32m      2\u001b[0m \u001b[38;5;66;03m# type conversion is not possible for str to int o float\u001b[39;00m\n",
      "\u001b[0;31mValueError\u001b[0m: invalid literal for int() with base 10: 'wiu'"
     ]
    }
   ],
   "source": [
    "int(s)\n",
    "# type conversion is not possible for str to int o float"
   ]
  },
  {
   "cell_type": "code",
   "execution_count": 21,
   "id": "0d53c075-7d2c-49d8-a802-ff3d1c11badf",
   "metadata": {},
   "outputs": [],
   "source": [
    "a= 45849"
   ]
  },
  {
   "cell_type": "code",
   "execution_count": 24,
   "id": "0c8a976f-16c2-4f78-8f7d-e06ef9944354",
   "metadata": {},
   "outputs": [
    {
     "name": "stdin",
     "output_type": "stream",
     "text": [
      " 9\n"
     ]
    }
   ],
   "source": [
    "b= input()\n",
    "# instead of hardcoding the variable we can use input() to take input fom user"
   ]
  },
  {
   "cell_type": "code",
   "execution_count": 25,
   "id": "817bf902-0ffd-4d3c-b88b-7d89df8e81ba",
   "metadata": {},
   "outputs": [
    {
     "data": {
      "text/plain": [
       "'9'"
      ]
     },
     "execution_count": 25,
     "metadata": {},
     "output_type": "execute_result"
    }
   ],
   "source": [
    "b"
   ]
  },
  {
   "cell_type": "code",
   "execution_count": 27,
   "id": "f7a0aab1-22d5-4338-b879-0511b2248f51",
   "metadata": {},
   "outputs": [
    {
     "data": {
      "text/plain": [
       "str"
      ]
     },
     "execution_count": 27,
     "metadata": {},
     "output_type": "execute_result"
    }
   ],
   "source": [
    "type(b)\n",
    "# input() will always give str as output by default"
   ]
  },
  {
   "cell_type": "code",
   "execution_count": 37,
   "id": "1898ab74-6039-4a33-8130-b53f0c29a24e",
   "metadata": {},
   "outputs": [
    {
     "name": "stdin",
     "output_type": "stream",
     "text": [
      " 99\n"
     ]
    }
   ],
   "source": [
    "b = int(input())\n",
    "# here it will only accept value as int only \n",
    "# here we can use float,bool instead of int as well"
   ]
  },
  {
   "cell_type": "code",
   "execution_count": 36,
   "id": "22e51ac1-0ad3-4c4f-9a0c-dd218c13e807",
   "metadata": {},
   "outputs": [
    {
     "data": {
      "text/plain": [
       "int"
      ]
     },
     "execution_count": 36,
     "metadata": {},
     "output_type": "execute_result"
    }
   ],
   "source": [
    "type(b)"
   ]
  },
  {
   "cell_type": "code",
   "execution_count": 45,
   "id": "2ac5f387-10c1-44a4-bf50-6afa208fa1ce",
   "metadata": {},
   "outputs": [],
   "source": [
    "r = \"rohan\"\n",
    "# r  0  h  a  n\n",
    "# 0  1  2  3  4  --> forward indexing\n",
    "#-5 -4 -3 -2 -1  --> reverse idexing\n",
    "\n",
    "# this is called indexing"
   ]
  },
  {
   "cell_type": "code",
   "execution_count": 46,
   "id": "650865a4-8505-4511-a611-6b125c675465",
   "metadata": {},
   "outputs": [
    {
     "data": {
      "text/plain": [
       "'r'"
      ]
     },
     "execution_count": 46,
     "metadata": {},
     "output_type": "execute_result"
    }
   ],
   "source": [
    "r[0]"
   ]
  },
  {
   "cell_type": "code",
   "execution_count": 47,
   "id": "a5258199-33b4-42ed-85b6-4ea833653ccd",
   "metadata": {},
   "outputs": [
    {
     "data": {
      "text/plain": [
       "'n'"
      ]
     },
     "execution_count": 47,
     "metadata": {},
     "output_type": "execute_result"
    }
   ],
   "source": [
    "r[-1]"
   ]
  },
  {
   "cell_type": "code",
   "execution_count": 50,
   "id": "b1248dce-34af-41e9-8a5d-566f73decc4c",
   "metadata": {},
   "outputs": [
    {
     "data": {
      "text/plain": [
       "'roh'"
      ]
     },
     "execution_count": 50,
     "metadata": {},
     "output_type": "execute_result"
    }
   ],
   "source": [
    "# slicing roh from \"rohan\"\n",
    "r[0:3]"
   ]
  },
  {
   "cell_type": "code",
   "execution_count": 53,
   "id": "d8a468e9-8f44-426c-83c1-ddc6ef7a851a",
   "metadata": {},
   "outputs": [
    {
     "data": {
      "text/plain": [
       "'oha'"
      ]
     },
     "execution_count": 53,
     "metadata": {},
     "output_type": "execute_result"
    }
   ],
   "source": [
    "#slicing oha fom rohan\n",
    "r[1:4]"
   ]
  },
  {
   "cell_type": "code",
   "execution_count": 58,
   "id": "f00f6d40-0b6c-49ac-b36d-de78c4953624",
   "metadata": {},
   "outputs": [
    {
     "data": {
      "text/plain": [
       "'han'"
      ]
     },
     "execution_count": 58,
     "metadata": {},
     "output_type": "execute_result"
    }
   ],
   "source": [
    "#slicing han from rohan\n",
    "r[2:]\n",
    "r[2:5] # while using slicing it take range of index therefore you can mention index above 5 as well"
   ]
  },
  {
   "cell_type": "code",
   "execution_count": 63,
   "id": "7cb68e50-01f9-46e0-ae48-ff16b8bf2e84",
   "metadata": {},
   "outputs": [],
   "source": [
    "r1=\"pwskills\""
   ]
  },
  {
   "cell_type": "code",
   "execution_count": 64,
   "id": "c154e1b4-d1b7-4c6d-be93-553da5315322",
   "metadata": {},
   "outputs": [
    {
     "data": {
      "text/plain": [
       "'psil'"
      ]
     },
     "execution_count": 64,
     "metadata": {},
     "output_type": "execute_result"
    }
   ],
   "source": [
    "r1[0:8:2]\n",
    "# here 2 is used to jump or step the position of index to extract"
   ]
  },
  {
   "cell_type": "code",
   "execution_count": 75,
   "id": "70a13deb-0945-4dac-8a3a-fe8887920c87",
   "metadata": {},
   "outputs": [
    {
     "data": {
      "text/plain": [
       "'slli'"
      ]
     },
     "execution_count": 75,
     "metadata": {},
     "output_type": "execute_result"
    }
   ],
   "source": [
    "# slli from pwskills\n",
    "r1[-1:-5:-1]\n",
    "#or\n",
    "r1[7:3:-1]\n",
    "# here -1 is moving or steping in backward direction"
   ]
  },
  {
   "cell_type": "code",
   "execution_count": 76,
   "id": "d5669412-3a28-4a98-b76c-6dd0896ad5a0",
   "metadata": {},
   "outputs": [
    {
     "data": {
      "text/plain": [
       "'sllikswp'"
      ]
     },
     "execution_count": 76,
     "metadata": {},
     "output_type": "execute_result"
    }
   ],
   "source": [
    "#eversing entire string\n",
    "r1[7::-1]"
   ]
  },
  {
   "cell_type": "code",
   "execution_count": 77,
   "id": "67a9db22-39a5-467c-8bb7-eb67c191d3bc",
   "metadata": {},
   "outputs": [
    {
     "data": {
      "text/plain": [
       "'sllikswp'"
      ]
     },
     "execution_count": 77,
     "metadata": {},
     "output_type": "execute_result"
    }
   ],
   "source": [
    "r1[-1::-1]"
   ]
  },
  {
   "cell_type": "code",
   "execution_count": 78,
   "id": "50cfa46b-bfc7-4513-b8f1-d342763d85b1",
   "metadata": {},
   "outputs": [],
   "source": [
    "s2=\"pwskills\""
   ]
  },
  {
   "cell_type": "code",
   "execution_count": null,
   "id": "0192f45e-6e77-4964-98da-0fd72365b000",
   "metadata": {},
   "outputs": [],
   "source": [
    "s2[]"
   ]
  }
 ],
 "metadata": {
  "kernelspec": {
   "display_name": "Python 3 (ipykernel)",
   "language": "python",
   "name": "python3"
  },
  "language_info": {
   "codemirror_mode": {
    "name": "ipython",
    "version": 3
   },
   "file_extension": ".py",
   "mimetype": "text/x-python",
   "name": "python",
   "nbconvert_exporter": "python",
   "pygments_lexer": "ipython3",
   "version": "3.10.8"
  }
 },
 "nbformat": 4,
 "nbformat_minor": 5
}
