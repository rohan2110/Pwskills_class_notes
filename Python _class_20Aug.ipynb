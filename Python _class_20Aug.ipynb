{
 "cells": [
  {
   "cell_type": "code",
   "execution_count": 1,
   "id": "7718cd34-529c-49f4-bdd4-b0ef3a21bf1e",
   "metadata": {},
   "outputs": [],
   "source": [
    "l=[]"
   ]
  },
  {
   "cell_type": "code",
   "execution_count": 2,
   "id": "b5e7324f-bb50-47bf-bb54-3d42f18c513f",
   "metadata": {},
   "outputs": [
    {
     "data": {
      "text/plain": [
       "list"
      ]
     },
     "execution_count": 2,
     "metadata": {},
     "output_type": "execute_result"
    }
   ],
   "source": [
    "type(l)"
   ]
  },
  {
   "cell_type": "code",
   "execution_count": 5,
   "id": "c9e1ffc3-bcbc-4d9a-9c52-1c550aa721a1",
   "metadata": {},
   "outputs": [],
   "source": [
    "l1 = [1,2,3.3,\"rohan\",5+9j,True]\n",
    "#list is collection of variuos data types"
   ]
  },
  {
   "cell_type": "code",
   "execution_count": 6,
   "id": "306d61d0-341c-493f-87eb-5413c34a34d7",
   "metadata": {},
   "outputs": [
    {
     "data": {
      "text/plain": [
       "list"
      ]
     },
     "execution_count": 6,
     "metadata": {},
     "output_type": "execute_result"
    }
   ],
   "source": [
    "type(l1)"
   ]
  },
  {
   "cell_type": "code",
   "execution_count": 9,
   "id": "10020640-23bd-4eed-8abc-89da35fc232a",
   "metadata": {},
   "outputs": [],
   "source": [
    "l1 = [1,2,3.3,\"rohan\",5+9j,True, [3,6,8]]\n",
    "# you can also place list inside a list"
   ]
  },
  {
   "cell_type": "code",
   "execution_count": 10,
   "id": "f31406d4-6bfe-4e0b-bc39-3c2bf6cbaf42",
   "metadata": {},
   "outputs": [
    {
     "data": {
      "text/plain": [
       "[1, 2, 3.3, 'rohan', (5+9j), True, [3, 6, 8]]"
      ]
     },
     "execution_count": 10,
     "metadata": {},
     "output_type": "execute_result"
    }
   ],
   "source": [
    "l1"
   ]
  },
  {
   "cell_type": "code",
   "execution_count": 11,
   "id": "12e378b2-4fc2-4b26-9e5b-cf2d90686f58",
   "metadata": {},
   "outputs": [],
   "source": [
    "# [1, 2, 3.3, 'rohan', (5+9j), True, [3, 6, 8]]\n",
    "#  0  1   2      3        4      5      6\n",
    "# -7 -6  -5     -4       -3     -2     -1"
   ]
  },
  {
   "cell_type": "code",
   "execution_count": 12,
   "id": "2fa43c87-5b1a-4e85-845a-680d420aedec",
   "metadata": {},
   "outputs": [
    {
     "data": {
      "text/plain": [
       "'rohan'"
      ]
     },
     "execution_count": 12,
     "metadata": {},
     "output_type": "execute_result"
    }
   ],
   "source": [
    "# extract 'rohan' from list\n",
    "l1[3]"
   ]
  },
  {
   "cell_type": "code",
   "execution_count": 15,
   "id": "69949a36-4859-47e7-a85b-9a52624224ef",
   "metadata": {},
   "outputs": [
    {
     "data": {
      "text/plain": [
       "3"
      ]
     },
     "execution_count": 15,
     "metadata": {},
     "output_type": "execute_result"
    }
   ],
   "source": [
    "#extract 6 from a list inside a list\n",
    "l1[6][0]"
   ]
  },
  {
   "cell_type": "code",
   "execution_count": 16,
   "id": "df290800-d11a-4eb7-84de-63e932b16f2c",
   "metadata": {},
   "outputs": [
    {
     "data": {
      "text/plain": [
       "[1, 2, 3.3]"
      ]
     },
     "execution_count": 16,
     "metadata": {},
     "output_type": "execute_result"
    }
   ],
   "source": [
    "#slicing first three value\n",
    "l1[:3]"
   ]
  },
  {
   "cell_type": "code",
   "execution_count": 17,
   "id": "25e6c735-8c7b-4f26-926a-ee4447b724ed",
   "metadata": {},
   "outputs": [],
   "source": [
    "l2=[7,9,3.6]"
   ]
  },
  {
   "cell_type": "code",
   "execution_count": 20,
   "id": "856f9993-1b1b-461d-88a9-fb4fc6b03530",
   "metadata": {},
   "outputs": [],
   "source": [
    "# concatenating list\n",
    "l3=l1+l2"
   ]
  },
  {
   "cell_type": "code",
   "execution_count": 22,
   "id": "afda06eb-e2b9-4d25-9e84-66b3ecce50cc",
   "metadata": {},
   "outputs": [
    {
     "ename": "TypeError",
     "evalue": "can only concatenate list (not \"str\") to list",
     "output_type": "error",
     "traceback": [
      "\u001b[0;31m---------------------------------------------------------------------------\u001b[0m",
      "\u001b[0;31mTypeError\u001b[0m                                 Traceback (most recent call last)",
      "Cell \u001b[0;32mIn[22], line 1\u001b[0m\n\u001b[0;32m----> 1\u001b[0m \u001b[43ml3\u001b[49m\u001b[43m \u001b[49m\u001b[38;5;241;43m+\u001b[39;49m\u001b[43m \u001b[49m\u001b[38;5;124;43m\"\u001b[39;49m\u001b[38;5;124;43mrohanshinde\u001b[39;49m\u001b[38;5;124;43m\"\u001b[39;49m\n\u001b[1;32m      2\u001b[0m \u001b[38;5;66;03m# list concatenate is not posible with different datatye\u001b[39;00m\n",
      "\u001b[0;31mTypeError\u001b[0m: can only concatenate list (not \"str\") to list"
     ]
    }
   ],
   "source": [
    "l3 + \"rohanshinde\"\n",
    "# list concatenate is not posible with different datatye"
   ]
  },
  {
   "cell_type": "code",
   "execution_count": 23,
   "id": "1b670cee-a0d6-476e-b10f-efb772d52656",
   "metadata": {},
   "outputs": [
    {
     "data": {
      "text/plain": [
       "[1, 2, 3.3, 'rohan', (5+9j), True, [3, 6, 8], 7, 9, 3.6]"
      ]
     },
     "execution_count": 23,
     "metadata": {},
     "output_type": "execute_result"
    }
   ],
   "source": [
    "l3"
   ]
  },
  {
   "cell_type": "code",
   "execution_count": 25,
   "id": "964c7492-fda9-4290-bd24-b581fde3ea4d",
   "metadata": {},
   "outputs": [
    {
     "data": {
      "text/plain": [
       "[1,\n",
       " 2,\n",
       " 3.3,\n",
       " 'rohan',\n",
       " (5+9j),\n",
       " True,\n",
       " [3, 6, 8],\n",
       " 7,\n",
       " 9,\n",
       " 3.6,\n",
       " 1,\n",
       " 2,\n",
       " 3.3,\n",
       " 'rohan',\n",
       " (5+9j),\n",
       " True,\n",
       " [3, 6, 8],\n",
       " 7,\n",
       " 9,\n",
       " 3.6]"
      ]
     },
     "execution_count": 25,
     "metadata": {},
     "output_type": "execute_result"
    }
   ],
   "source": [
    "l3 * 2\n",
    "# it will repeat list"
   ]
  },
  {
   "cell_type": "code",
   "execution_count": 26,
   "id": "68777371-9439-46a0-8430-0f4590188194",
   "metadata": {},
   "outputs": [
    {
     "data": {
      "text/plain": [
       "[1, 2, 3.3, 'rohan', (5+9j), True, [3, 6, 8], 7, 9, 3.6]"
      ]
     },
     "execution_count": 26,
     "metadata": {},
     "output_type": "execute_result"
    }
   ],
   "source": [
    "l3"
   ]
  },
  {
   "cell_type": "code",
   "execution_count": 29,
   "id": "0a394eb6-b999-45d7-8b96-6c160eccb9ce",
   "metadata": {},
   "outputs": [],
   "source": [
    "l3[0]=100\n",
    "# we can change value at any index\n",
    "# this is because list is mutable"
   ]
  },
  {
   "cell_type": "code",
   "execution_count": 30,
   "id": "e7713667-bbe0-46a7-af77-dc7fed37d326",
   "metadata": {},
   "outputs": [
    {
     "data": {
      "text/plain": [
       "[100, 2, 3.3, 'rohan', (5+9j), True, [3, 6, 8], 7, 9, 3.6]"
      ]
     },
     "execution_count": 30,
     "metadata": {},
     "output_type": "execute_result"
    }
   ],
   "source": [
    "l3"
   ]
  },
  {
   "cell_type": "code",
   "execution_count": 31,
   "id": "b02a71c2-92bf-48fc-9aa5-28a5547cc005",
   "metadata": {},
   "outputs": [],
   "source": [
    "t=(1,2,4,6.5,\"pwskills\", 5+6j, False)"
   ]
  },
  {
   "cell_type": "code",
   "execution_count": 32,
   "id": "d1e5ff81-6361-4bce-9198-f7bb72583042",
   "metadata": {},
   "outputs": [
    {
     "data": {
      "text/plain": [
       "tuple"
      ]
     },
     "execution_count": 32,
     "metadata": {},
     "output_type": "execute_result"
    }
   ],
   "source": [
    "type(t)"
   ]
  },
  {
   "cell_type": "code",
   "execution_count": 33,
   "id": "70cfd868-7383-4a0f-8fae-3049ae680c47",
   "metadata": {},
   "outputs": [
    {
     "data": {
      "text/plain": [
       "False"
      ]
     },
     "execution_count": 33,
     "metadata": {},
     "output_type": "execute_result"
    }
   ],
   "source": [
    "t[-1]"
   ]
  },
  {
   "cell_type": "code",
   "execution_count": 34,
   "id": "f5ba00cb-5d03-4b48-974c-abe76408a7f2",
   "metadata": {},
   "outputs": [
    {
     "data": {
      "text/plain": [
       "(False, (5+6j), 'pwskills', 6.5, 4, 2, 1)"
      ]
     },
     "execution_count": 34,
     "metadata": {},
     "output_type": "execute_result"
    }
   ],
   "source": [
    "t[::-1]"
   ]
  },
  {
   "cell_type": "code",
   "execution_count": 35,
   "id": "9dc90426-4cbe-45cb-8415-7e6a73aa224c",
   "metadata": {},
   "outputs": [
    {
     "data": {
      "text/plain": [
       "(1, 2, 4, 6.5, 'pwskills', (5+6j), False)"
      ]
     },
     "execution_count": 35,
     "metadata": {},
     "output_type": "execute_result"
    }
   ],
   "source": [
    "t"
   ]
  },
  {
   "cell_type": "code",
   "execution_count": 37,
   "id": "3a242c58-3fd4-4d9d-b819-6d9da347f62e",
   "metadata": {},
   "outputs": [
    {
     "ename": "TypeError",
     "evalue": "'tuple' object does not support item assignment",
     "output_type": "error",
     "traceback": [
      "\u001b[0;31m---------------------------------------------------------------------------\u001b[0m",
      "\u001b[0;31mTypeError\u001b[0m                                 Traceback (most recent call last)",
      "Cell \u001b[0;32mIn[37], line 1\u001b[0m\n\u001b[0;32m----> 1\u001b[0m \u001b[43mt\u001b[49m\u001b[43m[\u001b[49m\u001b[38;5;241;43m0\u001b[39;49m\u001b[43m]\u001b[49m\u001b[38;5;241m=\u001b[39m\u001b[38;5;241m111\u001b[39m\n\u001b[1;32m      2\u001b[0m \u001b[38;5;66;03m# we cant change value at any index in tupe\u001b[39;00m\n\u001b[1;32m      3\u001b[0m \u001b[38;5;66;03m# because tuple i immutable\u001b[39;00m\n",
      "\u001b[0;31mTypeError\u001b[0m: 'tuple' object does not support item assignment"
     ]
    }
   ],
   "source": [
    "t[0]=111\n",
    "# we cant change value at any index in tupe\n",
    "# because tuple i immutable"
   ]
  },
  {
   "cell_type": "code",
   "execution_count": 38,
   "id": "4d147aa6-8eab-45eb-bdb7-059ca15c53aa",
   "metadata": {},
   "outputs": [
    {
     "data": {
      "text/plain": [
       "(1, 2, 4, 6.5, 'pwskills', (5+6j), False)"
      ]
     },
     "execution_count": 38,
     "metadata": {},
     "output_type": "execute_result"
    }
   ],
   "source": [
    "t"
   ]
  },
  {
   "cell_type": "code",
   "execution_count": 39,
   "id": "351925ba-a218-4f64-8c5d-e47226731ca6",
   "metadata": {},
   "outputs": [],
   "source": [
    "t1=(2,5,7)"
   ]
  },
  {
   "cell_type": "code",
   "execution_count": 41,
   "id": "88b5269e-b470-40f4-aaef-539cdcda48e0",
   "metadata": {},
   "outputs": [
    {
     "data": {
      "text/plain": [
       "(1, 2, 4, 6.5, 'pwskills', (5+6j), False, 2, 5, 7)"
      ]
     },
     "execution_count": 41,
     "metadata": {},
     "output_type": "execute_result"
    }
   ],
   "source": [
    "t + t1"
   ]
  },
  {
   "cell_type": "code",
   "execution_count": 42,
   "id": "af914466-e0fe-4511-83f6-54a6ec2b3815",
   "metadata": {},
   "outputs": [
    {
     "data": {
      "text/plain": [
       "(1,\n",
       " 2,\n",
       " 4,\n",
       " 6.5,\n",
       " 'pwskills',\n",
       " (5+6j),\n",
       " False,\n",
       " 1,\n",
       " 2,\n",
       " 4,\n",
       " 6.5,\n",
       " 'pwskills',\n",
       " (5+6j),\n",
       " False)"
      ]
     },
     "execution_count": 42,
     "metadata": {},
     "output_type": "execute_result"
    }
   ],
   "source": [
    "t * 2"
   ]
  },
  {
   "cell_type": "code",
   "execution_count": 43,
   "id": "c3b9fa34-394f-495c-ab3a-4264c3b3b97c",
   "metadata": {},
   "outputs": [],
   "source": [
    "# we can convert tuple to list and vice versa\n",
    "ll = list(t)"
   ]
  },
  {
   "cell_type": "code",
   "execution_count": 44,
   "id": "c3390c3e-1cfd-444b-9b0e-b61f5a00ff03",
   "metadata": {},
   "outputs": [
    {
     "data": {
      "text/plain": [
       "[1, 2, 4, 6.5, 'pwskills', (5+6j), False]"
      ]
     },
     "execution_count": 44,
     "metadata": {},
     "output_type": "execute_result"
    }
   ],
   "source": [
    "ll"
   ]
  },
  {
   "cell_type": "code",
   "execution_count": 45,
   "id": "3f6997f1-a035-4126-bb51-a8abf6a8b9e6",
   "metadata": {},
   "outputs": [],
   "source": [
    "tt=tuple(ll)"
   ]
  },
  {
   "cell_type": "code",
   "execution_count": 46,
   "id": "49f73807-bb13-4e27-a848-539a38ccc73a",
   "metadata": {},
   "outputs": [
    {
     "data": {
      "text/plain": [
       "(1, 2, 4, 6.5, 'pwskills', (5+6j), False)"
      ]
     },
     "execution_count": 46,
     "metadata": {},
     "output_type": "execute_result"
    }
   ],
   "source": [
    "tt"
   ]
  },
  {
   "cell_type": "code",
   "execution_count": 47,
   "id": "29a08af8-2b37-4aad-8d6b-2e68e4df9a78",
   "metadata": {},
   "outputs": [
    {
     "data": {
      "text/plain": [
       "7"
      ]
     },
     "execution_count": 47,
     "metadata": {},
     "output_type": "execute_result"
    }
   ],
   "source": [
    "# len function \n",
    "len(tt)"
   ]
  },
  {
   "cell_type": "code",
   "execution_count": 48,
   "id": "71f228fa-8327-4621-ac19-d8d6896f2cda",
   "metadata": {},
   "outputs": [
    {
     "data": {
      "text/plain": [
       "7"
      ]
     },
     "execution_count": 48,
     "metadata": {},
     "output_type": "execute_result"
    }
   ],
   "source": [
    "len(ll)"
   ]
  },
  {
   "cell_type": "code",
   "execution_count": 49,
   "id": "67a43162-7637-497b-b179-822820c9ece0",
   "metadata": {},
   "outputs": [],
   "source": [
    "s={}"
   ]
  },
  {
   "cell_type": "code",
   "execution_count": 50,
   "id": "95f23831-3474-494e-93f3-94a0cd512e5a",
   "metadata": {},
   "outputs": [
    {
     "data": {
      "text/plain": [
       "dict"
      ]
     },
     "execution_count": 50,
     "metadata": {},
     "output_type": "execute_result"
    }
   ],
   "source": [
    "type(s)"
   ]
  },
  {
   "cell_type": "code",
   "execution_count": 53,
   "id": "9cd0c649-aec4-4949-a025-b50867cd0ca0",
   "metadata": {},
   "outputs": [],
   "source": [
    "s1={1,23,4,5,5}"
   ]
  },
  {
   "cell_type": "code",
   "execution_count": 54,
   "id": "a978aeae-1566-48ad-ab94-3ec21dec5b64",
   "metadata": {},
   "outputs": [
    {
     "data": {
      "text/plain": [
       "set"
      ]
     },
     "execution_count": 54,
     "metadata": {},
     "output_type": "execute_result"
    }
   ],
   "source": [
    "type(s1)"
   ]
  },
  {
   "cell_type": "code",
   "execution_count": 56,
   "id": "32ec1840-4629-4d4c-a639-a9bafd63082b",
   "metadata": {},
   "outputs": [
    {
     "data": {
      "text/plain": [
       "{1, 4, 5, 23}"
      ]
     },
     "execution_count": 56,
     "metadata": {},
     "output_type": "execute_result"
    }
   ],
   "source": [
    "s1\n",
    "# set always emove duplicate value and keep unique data"
   ]
  },
  {
   "cell_type": "code",
   "execution_count": 60,
   "id": "83cb367c-296a-4970-86f3-30c825f4c704",
   "metadata": {},
   "outputs": [],
   "source": [
    "s2={\"rohan\",\"Rohan\",\"Rohan\",1,2,3,3,1,88,8}"
   ]
  },
  {
   "cell_type": "code",
   "execution_count": 61,
   "id": "1aa800dd-321f-4082-bc91-611ba867f798",
   "metadata": {},
   "outputs": [
    {
     "data": {
      "text/plain": [
       "{1, 2, 3, 8, 88, 'Rohan', 'rohan'}"
      ]
     },
     "execution_count": 61,
     "metadata": {},
     "output_type": "execute_result"
    }
   ],
   "source": [
    "s2"
   ]
  },
  {
   "cell_type": "code",
   "execution_count": 62,
   "id": "16453f2a-231e-4378-8bc6-0876875b2824",
   "metadata": {},
   "outputs": [
    {
     "data": {
      "text/plain": [
       "[1, 2, 3, 8, 88, 'rohan', 'Rohan']"
      ]
     },
     "execution_count": 62,
     "metadata": {},
     "output_type": "execute_result"
    }
   ],
   "source": [
    "list(s2)"
   ]
  },
  {
   "cell_type": "code",
   "execution_count": 63,
   "id": "8a9d3680-382d-4ab8-936f-4c6f202c92c0",
   "metadata": {},
   "outputs": [
    {
     "data": {
      "text/plain": [
       "{3.6, 7, 9}"
      ]
     },
     "execution_count": 63,
     "metadata": {},
     "output_type": "execute_result"
    }
   ],
   "source": [
    "set(l2)"
   ]
  },
  {
   "cell_type": "code",
   "execution_count": 64,
   "id": "142cd499-504f-42d3-8a8d-91fd517dbf39",
   "metadata": {},
   "outputs": [
    {
     "data": {
      "text/plain": [
       "[1, 2, 3.3, 'rohan', (5+9j), True, [3, 6, 8]]"
      ]
     },
     "execution_count": 64,
     "metadata": {},
     "output_type": "execute_result"
    }
   ],
   "source": [
    "l1"
   ]
  },
  {
   "cell_type": "code",
   "execution_count": 66,
   "id": "59ce2383-1344-4c21-9443-884f63648575",
   "metadata": {},
   "outputs": [
    {
     "ename": "TypeError",
     "evalue": "unhashable type: 'list'",
     "output_type": "error",
     "traceback": [
      "\u001b[0;31m---------------------------------------------------------------------------\u001b[0m",
      "\u001b[0;31mTypeError\u001b[0m                                 Traceback (most recent call last)",
      "Cell \u001b[0;32mIn[66], line 1\u001b[0m\n\u001b[0;32m----> 1\u001b[0m \u001b[38;5;28;43mset\u001b[39;49m\u001b[43m(\u001b[49m\u001b[43ml1\u001b[49m\u001b[43m)\u001b[49m\n\u001b[1;32m      2\u001b[0m \u001b[38;5;66;03m#cant type cast list with a list inside a list\u001b[39;00m\n",
      "\u001b[0;31mTypeError\u001b[0m: unhashable type: 'list'"
     ]
    }
   ],
   "source": [
    "set(l1)\n",
    "#cant type cast list with a list inside a list"
   ]
  },
  {
   "cell_type": "code",
   "execution_count": 67,
   "id": "8d1ff05d-19d3-463b-9577-419a2c0e2cf6",
   "metadata": {},
   "outputs": [
    {
     "data": {
      "text/plain": [
       "(1, 2, 3, 8, 88, 'rohan', 'Rohan')"
      ]
     },
     "execution_count": 67,
     "metadata": {},
     "output_type": "execute_result"
    }
   ],
   "source": [
    "tuple(s2)"
   ]
  },
  {
   "cell_type": "code",
   "execution_count": 69,
   "id": "d3f7a5ed-ab36-441a-a45f-1e0dc518e8b7",
   "metadata": {},
   "outputs": [
    {
     "data": {
      "text/plain": [
       "(2, 5, 7)"
      ]
     },
     "execution_count": 69,
     "metadata": {},
     "output_type": "execute_result"
    }
   ],
   "source": [
    "t1"
   ]
  },
  {
   "cell_type": "code",
   "execution_count": 70,
   "id": "7e1f5133-f355-4189-91f3-26e64450a72c",
   "metadata": {},
   "outputs": [
    {
     "data": {
      "text/plain": [
       "{2, 5, 7}"
      ]
     },
     "execution_count": 70,
     "metadata": {},
     "output_type": "execute_result"
    }
   ],
   "source": [
    "set(t1)"
   ]
  },
  {
   "cell_type": "code",
   "execution_count": 72,
   "id": "604745ee-464d-42f2-a30e-16aae0f39654",
   "metadata": {},
   "outputs": [
    {
     "ename": "TypeError",
     "evalue": "'set' object is not subscriptable",
     "output_type": "error",
     "traceback": [
      "\u001b[0;31m---------------------------------------------------------------------------\u001b[0m",
      "\u001b[0;31mTypeError\u001b[0m                                 Traceback (most recent call last)",
      "Cell \u001b[0;32mIn[72], line 1\u001b[0m\n\u001b[0;32m----> 1\u001b[0m \u001b[43ms2\u001b[49m\u001b[43m[\u001b[49m\u001b[38;5;241;43m1\u001b[39;49m\u001b[43m]\u001b[49m\n\u001b[1;32m      2\u001b[0m \u001b[38;5;66;03m# set does not support indexing and slicing\u001b[39;00m\n",
      "\u001b[0;31mTypeError\u001b[0m: 'set' object is not subscriptable"
     ]
    }
   ],
   "source": [
    "s2[1]\n",
    "# set does not support indexing and slicing"
   ]
  },
  {
   "cell_type": "code",
   "execution_count": 73,
   "id": "c43b5a00-8b87-42fa-aeed-41b7a998dedd",
   "metadata": {},
   "outputs": [],
   "source": [
    "sl=list(s2)"
   ]
  },
  {
   "cell_type": "code",
   "execution_count": 74,
   "id": "95d4e798-d299-4b7c-91da-c32ce4202c03",
   "metadata": {},
   "outputs": [
    {
     "data": {
      "text/plain": [
       "[1, 2, 3, 8, 88, 'rohan', 'Rohan']"
      ]
     },
     "execution_count": 74,
     "metadata": {},
     "output_type": "execute_result"
    }
   ],
   "source": [
    "sl"
   ]
  },
  {
   "cell_type": "code",
   "execution_count": 76,
   "id": "356a6dea-523d-4395-8aa1-981ae4a2c907",
   "metadata": {},
   "outputs": [
    {
     "data": {
      "text/plain": [
       "2"
      ]
     },
     "execution_count": 76,
     "metadata": {},
     "output_type": "execute_result"
    }
   ],
   "source": [
    "sl[1]\n",
    "# we can convet set to list and peform indexing or slicing"
   ]
  },
  {
   "cell_type": "code",
   "execution_count": 77,
   "id": "eff42073-58cf-41f4-bd92-bf1779465387",
   "metadata": {},
   "outputs": [],
   "source": [
    "s3={1,3,4,3.44,344.5,\"r2\",True}"
   ]
  },
  {
   "cell_type": "code",
   "execution_count": 79,
   "id": "f5c64572-8efc-4432-a154-4be91ca19f11",
   "metadata": {},
   "outputs": [
    {
     "data": {
      "text/plain": [
       "{1, 3, 3.44, 344.5, 4, 'r2'}"
      ]
     },
     "execution_count": 79,
     "metadata": {},
     "output_type": "execute_result"
    }
   ],
   "source": [
    "s3\n",
    "# sorting does not happen in set by default"
   ]
  },
  {
   "cell_type": "code",
   "execution_count": 80,
   "id": "cfc8fda7-8b28-417c-b13f-86392bda4d4c",
   "metadata": {},
   "outputs": [],
   "source": [
    "d={}"
   ]
  },
  {
   "cell_type": "code",
   "execution_count": 81,
   "id": "d8127fd2-f3b8-4c61-b9f4-57c437780e2e",
   "metadata": {},
   "outputs": [
    {
     "data": {
      "text/plain": [
       "dict"
      ]
     },
     "execution_count": 81,
     "metadata": {},
     "output_type": "execute_result"
    }
   ],
   "source": [
    "type(d)"
   ]
  },
  {
   "cell_type": "code",
   "execution_count": 84,
   "id": "3bb60b05-c49a-4b56-b274-9086930fadd0",
   "metadata": {},
   "outputs": [],
   "source": [
    "d1={'name' : 'rohan'}\n",
    "# dict store value in key:value pair"
   ]
  },
  {
   "cell_type": "code",
   "execution_count": 85,
   "id": "db065844-a4c3-459d-bf54-d3d4010d8723",
   "metadata": {},
   "outputs": [
    {
     "data": {
      "text/plain": [
       "{'name': 'rohan'}"
      ]
     },
     "execution_count": 85,
     "metadata": {},
     "output_type": "execute_result"
    }
   ],
   "source": [
    "d1"
   ]
  },
  {
   "cell_type": "code",
   "execution_count": 88,
   "id": "05edc512-b057-420b-8225-b7527a3faace",
   "metadata": {},
   "outputs": [],
   "source": [
    "d1={'name' :'rohan' , 'age': 30 , 'location':['mumbai','taloja'], 'number':4959494}\n"
   ]
  },
  {
   "cell_type": "code",
   "execution_count": 89,
   "id": "46ce1bf6-0795-48ab-a6e8-46c7fa355687",
   "metadata": {},
   "outputs": [
    {
     "data": {
      "text/plain": [
       "{'name': 'rohan',\n",
       " 'age': 30,\n",
       " 'location': ['mumbai', 'taloja'],\n",
       " 'number': 4959494}"
      ]
     },
     "execution_count": 89,
     "metadata": {},
     "output_type": "execute_result"
    }
   ],
   "source": [
    "d1"
   ]
  },
  {
   "cell_type": "code",
   "execution_count": 90,
   "id": "5ef8412b-6a41-4213-86d5-0b4496340e27",
   "metadata": {},
   "outputs": [],
   "source": [
    "d2 ={'name':'rohan' , 'name' : 'pwskills'}"
   ]
  },
  {
   "cell_type": "code",
   "execution_count": 93,
   "id": "55122f80-f1ec-4e6c-aa48-8cdab5e21ef3",
   "metadata": {},
   "outputs": [
    {
     "data": {
      "text/plain": [
       "{'name': 'pwskills'}"
      ]
     },
     "execution_count": 93,
     "metadata": {},
     "output_type": "execute_result"
    }
   ],
   "source": [
    "d2\n",
    "# key should always be unique"
   ]
  },
  {
   "cell_type": "code",
   "execution_count": 94,
   "id": "861641b2-d632-4dfe-bbb3-8a76d4cfe905",
   "metadata": {},
   "outputs": [],
   "source": [
    "d3={6278:'str'}"
   ]
  },
  {
   "cell_type": "code",
   "execution_count": 95,
   "id": "0c22af54-47fe-48a8-bb42-af890ce6455e",
   "metadata": {},
   "outputs": [
    {
     "data": {
      "text/plain": [
       "{6278: 'str'}"
      ]
     },
     "execution_count": 95,
     "metadata": {},
     "output_type": "execute_result"
    }
   ],
   "source": [
    "d3"
   ]
  },
  {
   "cell_type": "code",
   "execution_count": 97,
   "id": "c0729c78-bca4-481d-a01e-96bd3490de46",
   "metadata": {},
   "outputs": [
    {
     "ename": "TypeError",
     "evalue": "unhashable type: 'list'",
     "output_type": "error",
     "traceback": [
      "\u001b[0;31m---------------------------------------------------------------------------\u001b[0m",
      "\u001b[0;31mTypeError\u001b[0m                                 Traceback (most recent call last)",
      "Cell \u001b[0;32mIn[97], line 1\u001b[0m\n\u001b[0;32m----> 1\u001b[0m d3\u001b[38;5;241m=\u001b[39m{[\u001b[38;5;241m1\u001b[39m,\u001b[38;5;241m2\u001b[39m,\u001b[38;5;241m3\u001b[39m]:\u001b[38;5;241m66\u001b[39m}\n\u001b[1;32m      2\u001b[0m \u001b[38;5;66;03m# you cant give list or set as key\u001b[39;00m\n",
      "\u001b[0;31mTypeError\u001b[0m: unhashable type: 'list'"
     ]
    }
   ],
   "source": [
    "d3={[1,2,3]:66}\n",
    "# you cant give list or set as key"
   ]
  },
  {
   "cell_type": "code",
   "execution_count": 98,
   "id": "e513dc17-fee2-4007-bb39-06a71d610b1b",
   "metadata": {},
   "outputs": [],
   "source": [
    "d3={(1,2,3): \"rohan\"}"
   ]
  },
  {
   "cell_type": "code",
   "execution_count": 101,
   "id": "25e109aa-fb9d-4e54-9fee-fa3b47714e63",
   "metadata": {},
   "outputs": [
    {
     "data": {
      "text/plain": [
       "{(1, 2, 3): 'rohan'}"
      ]
     },
     "execution_count": 101,
     "metadata": {},
     "output_type": "execute_result"
    }
   ],
   "source": [
    "d3\n",
    "# you can give tuple as key\n",
    "# any data type we can assign to value"
   ]
  },
  {
   "cell_type": "code",
   "execution_count": 105,
   "id": "7d83152c-1160-4f2a-ac09-30a48fad2ef0",
   "metadata": {},
   "outputs": [],
   "source": [
    "d4 ={'course': ['dsa','java','webdev','python'] , 'mentor': ('sudh','krish','vishwa'),\n",
    "     'price': {3500,20000,15000,11000,3500} , 'duration': 1 , 'access year': 1}"
   ]
  },
  {
   "cell_type": "code",
   "execution_count": 106,
   "id": "c464d574-a76d-4f12-856a-be5f341f1613",
   "metadata": {},
   "outputs": [
    {
     "data": {
      "text/plain": [
       "{'course': ['dsa', 'java', 'webdev', 'python'],\n",
       " 'mentor': ('sudh', 'krish', 'vishwa'),\n",
       " 'price': {3500, 11000, 15000, 20000},\n",
       " 'duration': 1,\n",
       " 'access year': 1}"
      ]
     },
     "execution_count": 106,
     "metadata": {},
     "output_type": "execute_result"
    }
   ],
   "source": [
    "d4"
   ]
  },
  {
   "cell_type": "code",
   "execution_count": 108,
   "id": "15de5806-d2ac-47a3-9f17-07c8ad642d39",
   "metadata": {},
   "outputs": [
    {
     "data": {
      "text/plain": [
       "['dsa', 'java', 'webdev', 'python']"
      ]
     },
     "execution_count": 108,
     "metadata": {},
     "output_type": "execute_result"
    }
   ],
   "source": [
    "d4['course']\n",
    "# indexing is done by key"
   ]
  },
  {
   "cell_type": "code",
   "execution_count": 109,
   "id": "d62a3aa3-5801-4bc6-850b-443b43d3efba",
   "metadata": {},
   "outputs": [
    {
     "data": {
      "text/plain": [
       "('sudh', 'krish', 'vishwa')"
      ]
     },
     "execution_count": 109,
     "metadata": {},
     "output_type": "execute_result"
    }
   ],
   "source": [
    "d4['mentor']"
   ]
  },
  {
   "cell_type": "code",
   "execution_count": 110,
   "id": "49bc6eac-ecbd-4a46-9ce4-2e436b2add17",
   "metadata": {},
   "outputs": [
    {
     "data": {
      "text/plain": [
       "{3500, 11000, 15000, 20000}"
      ]
     },
     "execution_count": 110,
     "metadata": {},
     "output_type": "execute_result"
    }
   ],
   "source": [
    "d4['price']"
   ]
  },
  {
   "cell_type": "code",
   "execution_count": 111,
   "id": "91d4cc45-5523-4ca0-a464-7d961f893cbd",
   "metadata": {},
   "outputs": [],
   "source": [
    "d4 ={'course': ['dsa','java','webdev','python'] , 'mentor': ('sudh','krish','vishwa'),\n",
    "     'price': {3500,20000,15000,11000,3500} , 'duration': 1 , 'access year': 1 , 'syllabus':{'python':['dsa','oops']}}"
   ]
  },
  {
   "cell_type": "code",
   "execution_count": 112,
   "id": "f65dfeb7-5820-466a-ae4e-bbf5397b3c72",
   "metadata": {},
   "outputs": [
    {
     "data": {
      "text/plain": [
       "{'course': ['dsa', 'java', 'webdev', 'python'],\n",
       " 'mentor': ('sudh', 'krish', 'vishwa'),\n",
       " 'price': {3500, 11000, 15000, 20000},\n",
       " 'duration': 1,\n",
       " 'access year': 1,\n",
       " 'syllabus': {'python': ['dsa', 'oops']}}"
      ]
     },
     "execution_count": 112,
     "metadata": {},
     "output_type": "execute_result"
    }
   ],
   "source": [
    "d4"
   ]
  },
  {
   "cell_type": "code",
   "execution_count": 113,
   "id": "ba75b5ae-81e0-404b-a324-006fefd2262e",
   "metadata": {},
   "outputs": [
    {
     "data": {
      "text/plain": [
       "{'name': 'pwskills'}"
      ]
     },
     "execution_count": 113,
     "metadata": {},
     "output_type": "execute_result"
    }
   ],
   "source": [
    "d2"
   ]
  },
  {
   "cell_type": "code",
   "execution_count": 114,
   "id": "3a90a7e7-72f6-4f3a-839b-9d50929166ce",
   "metadata": {},
   "outputs": [],
   "source": [
    "d2['name']='rohan'"
   ]
  },
  {
   "cell_type": "code",
   "execution_count": 116,
   "id": "cd141b72-37e4-44ab-8e16-0d9f49852f45",
   "metadata": {},
   "outputs": [
    {
     "data": {
      "text/plain": [
       "{'name': 'rohan'}"
      ]
     },
     "execution_count": 116,
     "metadata": {},
     "output_type": "execute_result"
    }
   ],
   "source": [
    "d2\n",
    "# dict is mutable\n",
    "# we can change a value at specific key"
   ]
  },
  {
   "cell_type": "markdown",
   "id": "83f40573-dcc6-4836-bc0c-be6211ea8ccb",
   "metadata": {},
   "source": [
    "Inbiult Function \n",
    "1.String\n",
    "2.List\n",
    "3.Tuple\n",
    "4.Set\n",
    "5.Dictionary"
   ]
  },
  {
   "cell_type": "code",
   "execution_count": 117,
   "id": "8a754f92-f7a8-4672-ba00-ee5e1ae027fe",
   "metadata": {},
   "outputs": [],
   "source": [
    "s1= \"Pwskills\""
   ]
  },
  {
   "cell_type": "code",
   "execution_count": 119,
   "id": "d18161a7-9e73-4346-b6bc-d1ba14da2ef4",
   "metadata": {},
   "outputs": [],
   "source": [
    "# type s1.(tab) you will get inbuilt function associated with string"
   ]
  },
  {
   "cell_type": "code",
   "execution_count": 120,
   "id": "b1de7689-5649-49d3-a7e3-0aae1630e6da",
   "metadata": {},
   "outputs": [
    {
     "data": {
      "text/plain": [
       "'Pwskills'"
      ]
     },
     "execution_count": 120,
     "metadata": {},
     "output_type": "execute_result"
    }
   ],
   "source": [
    "s1"
   ]
  },
  {
   "cell_type": "code",
   "execution_count": 123,
   "id": "8e99f21b-c849-481e-98d3-8c09af7b0e84",
   "metadata": {},
   "outputs": [
    {
     "data": {
      "text/plain": [
       "2"
      ]
     },
     "execution_count": 123,
     "metadata": {},
     "output_type": "execute_result"
    }
   ],
   "source": [
    "s1.count('s')"
   ]
  },
  {
   "cell_type": "code",
   "execution_count": 124,
   "id": "29cc0c24-59f9-45a8-bb84-e16e9d673cf4",
   "metadata": {},
   "outputs": [
    {
     "data": {
      "text/plain": [
       "2"
      ]
     },
     "execution_count": 124,
     "metadata": {},
     "output_type": "execute_result"
    }
   ],
   "source": [
    "s1.find('s')"
   ]
  },
  {
   "cell_type": "code",
   "execution_count": 125,
   "id": "6e2edb9a-d345-44bf-ae9d-a1cb4f37131c",
   "metadata": {},
   "outputs": [
    {
     "data": {
      "text/plain": [
       "2"
      ]
     },
     "execution_count": 125,
     "metadata": {},
     "output_type": "execute_result"
    }
   ],
   "source": [
    "s1.index('s')"
   ]
  },
  {
   "cell_type": "code",
   "execution_count": 126,
   "id": "e525b48e-6273-4e2c-9493-9c4cf67592ff",
   "metadata": {},
   "outputs": [
    {
     "data": {
      "text/plain": [
       "5"
      ]
     },
     "execution_count": 126,
     "metadata": {},
     "output_type": "execute_result"
    }
   ],
   "source": [
    "s1.index('l')"
   ]
  },
  {
   "cell_type": "code",
   "execution_count": 130,
   "id": "89d2ecb9-12bd-4ed4-b45f-8c8c4832dea6",
   "metadata": {},
   "outputs": [
    {
     "data": {
      "text/plain": [
       "-1"
      ]
     },
     "execution_count": 130,
     "metadata": {},
     "output_type": "execute_result"
    }
   ],
   "source": [
    "s1.find('z')\n",
    "# it will not give you error instead give -1 as output if not found"
   ]
  },
  {
   "cell_type": "code",
   "execution_count": 131,
   "id": "f2cd1ae6-9a9a-41b7-83a2-02a779712ca8",
   "metadata": {},
   "outputs": [
    {
     "ename": "ValueError",
     "evalue": "substring not found",
     "output_type": "error",
     "traceback": [
      "\u001b[0;31m---------------------------------------------------------------------------\u001b[0m",
      "\u001b[0;31mValueError\u001b[0m                                Traceback (most recent call last)",
      "Cell \u001b[0;32mIn[131], line 1\u001b[0m\n\u001b[0;32m----> 1\u001b[0m \u001b[43ms1\u001b[49m\u001b[38;5;241;43m.\u001b[39;49m\u001b[43mindex\u001b[49m\u001b[43m(\u001b[49m\u001b[38;5;124;43m'\u001b[39;49m\u001b[38;5;124;43mz\u001b[39;49m\u001b[38;5;124;43m'\u001b[39;49m\u001b[43m)\u001b[49m\n\u001b[1;32m      2\u001b[0m \u001b[38;5;66;03m# index give you a error when not found\u001b[39;00m\n",
      "\u001b[0;31mValueError\u001b[0m: substring not found"
     ]
    }
   ],
   "source": [
    "s1.index('z')\n",
    "# index give you a error when not found"
   ]
  },
  {
   "cell_type": "code",
   "execution_count": 132,
   "id": "ab7d0de4-fcfe-4c0b-9f90-94c8b3dba99c",
   "metadata": {},
   "outputs": [
    {
     "data": {
      "text/plain": [
       "'PWSKILLS'"
      ]
     },
     "execution_count": 132,
     "metadata": {},
     "output_type": "execute_result"
    }
   ],
   "source": [
    "s1.upper()"
   ]
  },
  {
   "cell_type": "code",
   "execution_count": 133,
   "id": "6d532713-9656-435a-b0bd-9566fe5cb124",
   "metadata": {},
   "outputs": [
    {
     "data": {
      "text/plain": [
       "'pwskills'"
      ]
     },
     "execution_count": 133,
     "metadata": {},
     "output_type": "execute_result"
    }
   ],
   "source": [
    "s1.lower()"
   ]
  },
  {
   "cell_type": "code",
   "execution_count": 134,
   "id": "4e416b7d-f43a-4210-994a-65a84686c4ab",
   "metadata": {},
   "outputs": [],
   "source": [
    "s3 = \"My name is rohan shinde\""
   ]
  },
  {
   "cell_type": "code",
   "execution_count": 136,
   "id": "2cbdecb5-f0b4-4aeb-a618-41a38dcd1cf7",
   "metadata": {},
   "outputs": [
    {
     "data": {
      "text/plain": [
       "'My Name Is Rohan Shinde'"
      ]
     },
     "execution_count": 136,
     "metadata": {},
     "output_type": "execute_result"
    }
   ],
   "source": [
    "s3.title()\n",
    "# it convert into camel case"
   ]
  },
  {
   "cell_type": "code",
   "execution_count": 138,
   "id": "7e4e0462-518f-457b-9120-156dc23a4094",
   "metadata": {},
   "outputs": [
    {
     "data": {
      "text/plain": [
       "'My name is rohan shinde'"
      ]
     },
     "execution_count": 138,
     "metadata": {},
     "output_type": "execute_result"
    }
   ],
   "source": [
    "s3"
   ]
  },
  {
   "cell_type": "code",
   "execution_count": 140,
   "id": "a9dd1dd9-ea5d-4059-8654-6b9eab4b8c04",
   "metadata": {},
   "outputs": [
    {
     "data": {
      "text/plain": [
       "['My', 'name', 'is', 'rohan', 'shinde']"
      ]
     },
     "execution_count": 140,
     "metadata": {},
     "output_type": "execute_result"
    }
   ],
   "source": [
    "s3.split()\n",
    "# it split each and every word and provide a list\n",
    "# by default split perform on space as seperator"
   ]
  },
  {
   "cell_type": "code",
   "execution_count": 141,
   "id": "44ccce04-8423-4f04-8893-9354086d769a",
   "metadata": {},
   "outputs": [],
   "source": [
    "s3= \"my,'','name is rohan'\""
   ]
  },
  {
   "cell_type": "code",
   "execution_count": 144,
   "id": "b76e002e-d61e-4977-b3d8-7da59eb1cb3e",
   "metadata": {},
   "outputs": [
    {
     "data": {
      "text/plain": [
       "['my', \"''\", \"'name is rohan'\"]"
      ]
     },
     "execution_count": 144,
     "metadata": {},
     "output_type": "execute_result"
    }
   ],
   "source": [
    "s3.split(',')\n",
    "# here we used \",\" as seperator"
   ]
  },
  {
   "cell_type": "code",
   "execution_count": 145,
   "id": "56ba4a4a-eaa3-40cb-869a-243c54e50e79",
   "metadata": {},
   "outputs": [],
   "source": [
    "s4= \"thos is 1 st line . this is 2 nd line\""
   ]
  },
  {
   "cell_type": "code",
   "execution_count": 148,
   "id": "2e675070-251f-487a-8828-6ff2236ea5b7",
   "metadata": {},
   "outputs": [],
   "source": [
    "s5=s4.split(\".\")"
   ]
  },
  {
   "cell_type": "code",
   "execution_count": 149,
   "id": "52f9a02d-32ee-4721-8f91-eb67119a14c9",
   "metadata": {},
   "outputs": [
    {
     "data": {
      "text/plain": [
       "'thos is 1 st line '"
      ]
     },
     "execution_count": 149,
     "metadata": {},
     "output_type": "execute_result"
    }
   ],
   "source": [
    "s5[0]"
   ]
  },
  {
   "cell_type": "code",
   "execution_count": 152,
   "id": "239cc675-8107-4c07-8a15-0173ba04fb29",
   "metadata": {},
   "outputs": [
    {
     "data": {
      "text/plain": [
       "\"my,'','name is rohan'\""
      ]
     },
     "execution_count": 152,
     "metadata": {},
     "output_type": "execute_result"
    }
   ],
   "source": [
    "s3"
   ]
  },
  {
   "cell_type": "code",
   "execution_count": 153,
   "id": "15a19e2e-2629-472a-b79f-201920c0c6af",
   "metadata": {},
   "outputs": [],
   "source": [
    "s3 = \"My name is rohan shinde\""
   ]
  },
  {
   "cell_type": "code",
   "execution_count": 154,
   "id": "5df56c6f-cb91-4741-a682-ff91630d185b",
   "metadata": {},
   "outputs": [
    {
     "data": {
      "text/plain": [
       "'My name is rohan shinde'"
      ]
     },
     "execution_count": 154,
     "metadata": {},
     "output_type": "execute_result"
    }
   ],
   "source": [
    "s3.capitalize()"
   ]
  },
  {
   "cell_type": "code",
   "execution_count": 155,
   "id": "743c4897-47b5-49ae-b84f-9ad1aea86c18",
   "metadata": {},
   "outputs": [
    {
     "data": {
      "text/plain": [
       "'MY NAME IS ROHAN SHINDE'"
      ]
     },
     "execution_count": 155,
     "metadata": {},
     "output_type": "execute_result"
    }
   ],
   "source": [
    "s3.upper()"
   ]
  },
  {
   "cell_type": "code",
   "execution_count": 156,
   "id": "06ead8c5-51e3-463b-8b02-218abe529f57",
   "metadata": {},
   "outputs": [
    {
     "data": {
      "text/plain": [
       "'my name is rohan shinde'"
      ]
     },
     "execution_count": 156,
     "metadata": {},
     "output_type": "execute_result"
    }
   ],
   "source": [
    "s3.lower()"
   ]
  },
  {
   "cell_type": "code",
   "execution_count": 157,
   "id": "3823c170-2646-45d3-874e-ca5791b56384",
   "metadata": {},
   "outputs": [
    {
     "data": {
      "text/plain": [
       "'My name is rohan shinde'"
      ]
     },
     "execution_count": 157,
     "metadata": {},
     "output_type": "execute_result"
    }
   ],
   "source": [
    "s3"
   ]
  },
  {
   "cell_type": "code",
   "execution_count": 158,
   "id": "05a22fb9-4cff-4385-8c42-b6da8870af9e",
   "metadata": {},
   "outputs": [
    {
     "data": {
      "text/plain": [
       "'My name is Rohan shinde'"
      ]
     },
     "execution_count": 158,
     "metadata": {},
     "output_type": "execute_result"
    }
   ],
   "source": [
    "s3.replace('r','R')"
   ]
  },
  {
   "cell_type": "code",
   "execution_count": 159,
   "id": "8cde1213-c8b8-4a8b-a9c8-f2750af055ed",
   "metadata": {},
   "outputs": [
    {
     "data": {
      "text/plain": [
       "'My n@me is roh@n shinde'"
      ]
     },
     "execution_count": 159,
     "metadata": {},
     "output_type": "execute_result"
    }
   ],
   "source": [
    "s3.replace('a','@')"
   ]
  },
  {
   "cell_type": "code",
   "execution_count": 163,
   "id": "a187632a-49a2-4b10-b2ac-82d11184fd3e",
   "metadata": {},
   "outputs": [
    {
     "data": {
      "text/plain": [
       "'My name is rohan shinde'"
      ]
     },
     "execution_count": 163,
     "metadata": {},
     "output_type": "execute_result"
    }
   ],
   "source": [
    "s3"
   ]
  },
  {
   "cell_type": "code",
   "execution_count": 161,
   "id": "df09f73a-707f-473b-8284-3e84712a3b3e",
   "metadata": {},
   "outputs": [
    {
     "data": {
      "text/plain": [
       "'Pwskills'"
      ]
     },
     "execution_count": 161,
     "metadata": {},
     "output_type": "execute_result"
    }
   ],
   "source": [
    "s1"
   ]
  },
  {
   "cell_type": "code",
   "execution_count": 162,
   "id": "94ab58a1-67c8-4d66-82c5-91b97e9864ec",
   "metadata": {},
   "outputs": [
    {
     "data": {
      "text/plain": [
       "'****************Pwskills****************'"
      ]
     },
     "execution_count": 162,
     "metadata": {},
     "output_type": "execute_result"
    }
   ],
   "source": [
    "s1.center(40,'*')"
   ]
  },
  {
   "cell_type": "code",
   "execution_count": 164,
   "id": "c6cba8df-5838-4765-a8a6-aa4f2f9af593",
   "metadata": {},
   "outputs": [
    {
     "data": {
      "text/plain": [
       "'   pwsills'"
      ]
     },
     "execution_count": 164,
     "metadata": {},
     "output_type": "execute_result"
    }
   ],
   "source": [
    "s5=\"   pwsills    \"\n",
    "s5.rstrip()"
   ]
  },
  {
   "cell_type": "code",
   "execution_count": 165,
   "id": "51ad7ea0-cd71-4ab0-9bd5-425c2fdf0457",
   "metadata": {},
   "outputs": [
    {
     "data": {
      "text/plain": [
       "'pwsills    '"
      ]
     },
     "execution_count": 165,
     "metadata": {},
     "output_type": "execute_result"
    }
   ],
   "source": [
    "s5.lstrip()"
   ]
  },
  {
   "cell_type": "code",
   "execution_count": 166,
   "id": "0f2b363f-7847-4bea-8ab7-a7f19cce6357",
   "metadata": {},
   "outputs": [
    {
     "data": {
      "text/plain": [
       "'pwsills'"
      ]
     },
     "execution_count": 166,
     "metadata": {},
     "output_type": "execute_result"
    }
   ],
   "source": [
    "s5.strip()"
   ]
  },
  {
   "cell_type": "code",
   "execution_count": 167,
   "id": "3c3e74c3-e05a-4d92-a403-08ad35ae2fd9",
   "metadata": {},
   "outputs": [
    {
     "data": {
      "text/plain": [
       "'Pwskills'"
      ]
     },
     "execution_count": 167,
     "metadata": {},
     "output_type": "execute_result"
    }
   ],
   "source": [
    "s1"
   ]
  },
  {
   "cell_type": "code",
   "execution_count": 168,
   "id": "77f63b0a-4079-4e3c-94ac-657794460977",
   "metadata": {},
   "outputs": [
    {
     "data": {
      "text/plain": [
       "True"
      ]
     },
     "execution_count": 168,
     "metadata": {},
     "output_type": "execute_result"
    }
   ],
   "source": [
    "s1.isalnum()"
   ]
  },
  {
   "cell_type": "code",
   "execution_count": 169,
   "id": "2d9350ba-dd1d-4503-9fc9-6ecadd174f2a",
   "metadata": {},
   "outputs": [
    {
     "data": {
      "text/plain": [
       "False"
      ]
     },
     "execution_count": 169,
     "metadata": {},
     "output_type": "execute_result"
    }
   ],
   "source": [
    "s1.isnumeric()"
   ]
  },
  {
   "cell_type": "code",
   "execution_count": 170,
   "id": "fa45a672-9289-48da-918c-a0e98fc7f4b4",
   "metadata": {},
   "outputs": [
    {
     "data": {
      "text/plain": [
       "True"
      ]
     },
     "execution_count": 170,
     "metadata": {},
     "output_type": "execute_result"
    }
   ],
   "source": [
    "s1.isalpha()"
   ]
  },
  {
   "cell_type": "code",
   "execution_count": 171,
   "id": "fe2d8be1-12ca-43ff-b7df-2b5ddf19d6f6",
   "metadata": {},
   "outputs": [
    {
     "data": {
      "text/plain": [
       "[1, 2, 3.3, 'rohan', (5+9j), True, [3, 6, 8]]"
      ]
     },
     "execution_count": 171,
     "metadata": {},
     "output_type": "execute_result"
    }
   ],
   "source": [
    "l1"
   ]
  },
  {
   "cell_type": "code",
   "execution_count": 188,
   "id": "30570fb6-df14-403e-909d-f721ddddfc03",
   "metadata": {},
   "outputs": [
    {
     "data": {
      "text/plain": [
       "[7, 9, 3.6, 'r', 'o', 'h', 'a', 'n', 'r', 'o', 'h', 'a', 'n']"
      ]
     },
     "execution_count": 188,
     "metadata": {},
     "output_type": "execute_result"
    }
   ],
   "source": [
    "l2"
   ]
  },
  {
   "cell_type": "code",
   "execution_count": 173,
   "id": "08a161e7-0fd3-432c-969d-2d0f6235cb84",
   "metadata": {},
   "outputs": [],
   "source": [
    "l1.append('shinde')"
   ]
  },
  {
   "cell_type": "code",
   "execution_count": 175,
   "id": "537029f4-bce8-4efd-a3bf-d9d888ec3bf6",
   "metadata": {},
   "outputs": [
    {
     "data": {
      "text/plain": [
       "[1, 2, 3.3, 'rohan', (5+9j), True, [3, 6, 8], 'shinde']"
      ]
     },
     "execution_count": 175,
     "metadata": {},
     "output_type": "execute_result"
    }
   ],
   "source": [
    "l1\n",
    "# append will add object at the end of list"
   ]
  },
  {
   "cell_type": "code",
   "execution_count": 176,
   "id": "548fcd16-5f1a-4bae-85f2-63da87326a5a",
   "metadata": {},
   "outputs": [
    {
     "data": {
      "text/plain": [
       "[1, 2, 3.3, 'rohan', (5+9j), True, [3, 6, 8], 'shinde']"
      ]
     },
     "execution_count": 176,
     "metadata": {},
     "output_type": "execute_result"
    }
   ],
   "source": [
    "l1"
   ]
  },
  {
   "cell_type": "code",
   "execution_count": 180,
   "id": "3a31e1d0-549b-4ab8-8871-249a0c337bee",
   "metadata": {},
   "outputs": [],
   "source": [
    "l1.insert(2,3)\n",
    "# here we insert at index 2 with value 3"
   ]
  },
  {
   "cell_type": "code",
   "execution_count": 181,
   "id": "cdd45b93-7965-49ab-b4ce-c0bdff1a70ac",
   "metadata": {},
   "outputs": [
    {
     "data": {
      "text/plain": [
       "[1, 2, 3, 3, 3.3, 'rohan', (5+9j), True, [3, 6, 8], 'shinde']"
      ]
     },
     "execution_count": 181,
     "metadata": {},
     "output_type": "execute_result"
    }
   ],
   "source": [
    "l1"
   ]
  },
  {
   "cell_type": "code",
   "execution_count": 189,
   "id": "c0996c00-ad40-40ff-aa50-8786551c3b1e",
   "metadata": {},
   "outputs": [],
   "source": [
    "l2=[7,9,3.6]"
   ]
  },
  {
   "cell_type": "code",
   "execution_count": 190,
   "id": "258ebc78-36df-4537-871e-c4f693473349",
   "metadata": {},
   "outputs": [
    {
     "data": {
      "text/plain": [
       "[7, 9, 3.6]"
      ]
     },
     "execution_count": 190,
     "metadata": {},
     "output_type": "execute_result"
    }
   ],
   "source": [
    "l2"
   ]
  },
  {
   "cell_type": "code",
   "execution_count": 191,
   "id": "6ddc3b0b-3aaf-4e64-8c16-dc9c55fa97ab",
   "metadata": {},
   "outputs": [],
   "source": [
    "l2.extend(\"rohan\")\n",
    "# extend add a iterable data at the end of list , spliting the iterable"
   ]
  },
  {
   "cell_type": "code",
   "execution_count": 192,
   "id": "bf9efad1-2ae7-4d23-8f00-649a357c1193",
   "metadata": {},
   "outputs": [
    {
     "data": {
      "text/plain": [
       "[7, 9, 3.6, 'r', 'o', 'h', 'a', 'n']"
      ]
     },
     "execution_count": 192,
     "metadata": {},
     "output_type": "execute_result"
    }
   ],
   "source": [
    "l2"
   ]
  },
  {
   "cell_type": "code",
   "execution_count": 193,
   "id": "32469e00-1851-41d9-bb05-6973292b717a",
   "metadata": {},
   "outputs": [
    {
     "data": {
      "text/plain": [
       "[100, 2, 3.3, 'rohan', (5+9j), True, [3, 6, 8], 7, 9, 3.6]"
      ]
     },
     "execution_count": 193,
     "metadata": {},
     "output_type": "execute_result"
    }
   ],
   "source": [
    "l3"
   ]
  },
  {
   "cell_type": "code",
   "execution_count": 198,
   "id": "74db7411-460c-49e9-a940-c06f222ff888",
   "metadata": {},
   "outputs": [
    {
     "data": {
      "text/plain": [
       "7"
      ]
     },
     "execution_count": 198,
     "metadata": {},
     "output_type": "execute_result"
    }
   ],
   "source": [
    "l3.pop()\n",
    "# pop will delete a data at last index by default"
   ]
  },
  {
   "cell_type": "code",
   "execution_count": 199,
   "id": "66e46ff2-9026-4790-8ff9-216af7ac13f1",
   "metadata": {},
   "outputs": [
    {
     "data": {
      "text/plain": [
       "[100, 2, 3.3, 'rohan', (5+9j), True, [3, 6, 8]]"
      ]
     },
     "execution_count": 199,
     "metadata": {},
     "output_type": "execute_result"
    }
   ],
   "source": [
    "l3"
   ]
  },
  {
   "cell_type": "code",
   "execution_count": 200,
   "id": "68fc470b-a258-41b1-8146-088e0b66df57",
   "metadata": {},
   "outputs": [
    {
     "data": {
      "text/plain": [
       "[3, 6, 8]"
      ]
     },
     "execution_count": 200,
     "metadata": {},
     "output_type": "execute_result"
    }
   ],
   "source": [
    "l3.pop(6)"
   ]
  },
  {
   "cell_type": "code",
   "execution_count": 201,
   "id": "69c9380e-b880-40fc-b2a3-b0c49a9bd2c3",
   "metadata": {},
   "outputs": [
    {
     "data": {
      "text/plain": [
       "[100, 2, 3.3, 'rohan', (5+9j), True]"
      ]
     },
     "execution_count": 201,
     "metadata": {},
     "output_type": "execute_result"
    }
   ],
   "source": [
    "l3"
   ]
  },
  {
   "cell_type": "code",
   "execution_count": 202,
   "id": "84c21393-c068-4509-885b-659b37b30fac",
   "metadata": {},
   "outputs": [
    {
     "data": {
      "text/plain": [
       "'My name is rohan shinde'"
      ]
     },
     "execution_count": 202,
     "metadata": {},
     "output_type": "execute_result"
    }
   ],
   "source": [
    "s3"
   ]
  },
  {
   "cell_type": "code",
   "execution_count": 203,
   "id": "e7faaabe-18be-4643-8530-16d00a172ce2",
   "metadata": {},
   "outputs": [],
   "source": [
    "del s3"
   ]
  },
  {
   "cell_type": "code",
   "execution_count": 204,
   "id": "34d6cb5e-a499-407d-8b1d-a73886b68948",
   "metadata": {},
   "outputs": [
    {
     "ename": "NameError",
     "evalue": "name 's3' is not defined",
     "output_type": "error",
     "traceback": [
      "\u001b[0;31m---------------------------------------------------------------------------\u001b[0m",
      "\u001b[0;31mNameError\u001b[0m                                 Traceback (most recent call last)",
      "Cell \u001b[0;32mIn[204], line 1\u001b[0m\n\u001b[0;32m----> 1\u001b[0m \u001b[43ms3\u001b[49m\n",
      "\u001b[0;31mNameError\u001b[0m: name 's3' is not defined"
     ]
    }
   ],
   "source": [
    "s3"
   ]
  },
  {
   "cell_type": "code",
   "execution_count": 214,
   "id": "d934f85e-b786-4bce-a2c5-61f85a17509f",
   "metadata": {},
   "outputs": [],
   "source": [
    "l2= [7, 9, 3.6, 'r', 'o', 'h', 'a', 'n','r']"
   ]
  },
  {
   "cell_type": "code",
   "execution_count": 215,
   "id": "b3ab3da2-cafc-4a9d-acdc-9be395638534",
   "metadata": {},
   "outputs": [],
   "source": [
    "l2.remove('r')\n",
    "# it will remove 'r' at first occurence"
   ]
  },
  {
   "cell_type": "code",
   "execution_count": 216,
   "id": "b08f9d1c-802b-4633-b2df-0c8ac0b2a221",
   "metadata": {},
   "outputs": [
    {
     "data": {
      "text/plain": [
       "[7, 9, 3.6, 'o', 'h', 'a', 'n', 'r']"
      ]
     },
     "execution_count": 216,
     "metadata": {},
     "output_type": "execute_result"
    }
   ],
   "source": [
    "l2"
   ]
  },
  {
   "cell_type": "code",
   "execution_count": 217,
   "id": "c53a31b9-137b-4c63-b36f-685446cd60cb",
   "metadata": {},
   "outputs": [
    {
     "data": {
      "text/plain": [
       "[1, 2, 3, 3, 3.3, 'rohan', (5+9j), True, [3, 6, 8], 'shinde']"
      ]
     },
     "execution_count": 217,
     "metadata": {},
     "output_type": "execute_result"
    }
   ],
   "source": [
    "l1"
   ]
  },
  {
   "cell_type": "code",
   "execution_count": 218,
   "id": "47f6393b-5766-4136-948e-12c5b6540e58",
   "metadata": {},
   "outputs": [],
   "source": [
    "l1.clear()"
   ]
  },
  {
   "cell_type": "code",
   "execution_count": 219,
   "id": "c87ce4af-0755-490f-8759-abac6c18a0fd",
   "metadata": {},
   "outputs": [
    {
     "data": {
      "text/plain": [
       "[]"
      ]
     },
     "execution_count": 219,
     "metadata": {},
     "output_type": "execute_result"
    }
   ],
   "source": [
    "l1"
   ]
  },
  {
   "cell_type": "code",
   "execution_count": 220,
   "id": "1424090c-a4dc-477c-8749-df0822d8e5e0",
   "metadata": {},
   "outputs": [
    {
     "data": {
      "text/plain": [
       "[7, 9, 3.6, 'o', 'h', 'a', 'n', 'r']"
      ]
     },
     "execution_count": 220,
     "metadata": {},
     "output_type": "execute_result"
    }
   ],
   "source": [
    "l2"
   ]
  },
  {
   "cell_type": "code",
   "execution_count": 221,
   "id": "12dd53f7-98fa-4a8a-bf6e-ef4d79b5c906",
   "metadata": {},
   "outputs": [
    {
     "data": {
      "text/plain": [
       "4"
      ]
     },
     "execution_count": 221,
     "metadata": {},
     "output_type": "execute_result"
    }
   ],
   "source": [
    "l2.index('h')"
   ]
  },
  {
   "cell_type": "code",
   "execution_count": 222,
   "id": "0be6dafd-7f95-40b1-a34b-44aa471c5967",
   "metadata": {},
   "outputs": [
    {
     "data": {
      "text/plain": [
       "[7, 9, 3.6, 'o', 'h', 'a', 'n', 'r']"
      ]
     },
     "execution_count": 222,
     "metadata": {},
     "output_type": "execute_result"
    }
   ],
   "source": [
    "l2"
   ]
  },
  {
   "cell_type": "code",
   "execution_count": 223,
   "id": "3055dbd6-b09d-48c9-bf88-e8af17f44b08",
   "metadata": {},
   "outputs": [],
   "source": [
    "l2.reverse()"
   ]
  },
  {
   "cell_type": "code",
   "execution_count": 224,
   "id": "c5689890-e184-43dc-b45a-f710f2ba381e",
   "metadata": {},
   "outputs": [
    {
     "data": {
      "text/plain": [
       "['r', 'n', 'a', 'h', 'o', 3.6, 9, 7]"
      ]
     },
     "execution_count": 224,
     "metadata": {},
     "output_type": "execute_result"
    }
   ],
   "source": [
    "l2"
   ]
  },
  {
   "cell_type": "code",
   "execution_count": 225,
   "id": "fd6067ec-129e-4c56-a29e-0232158c24b7",
   "metadata": {},
   "outputs": [
    {
     "ename": "TypeError",
     "evalue": "'<' not supported between instances of 'float' and 'str'",
     "output_type": "error",
     "traceback": [
      "\u001b[0;31m---------------------------------------------------------------------------\u001b[0m",
      "\u001b[0;31mTypeError\u001b[0m                                 Traceback (most recent call last)",
      "Cell \u001b[0;32mIn[225], line 1\u001b[0m\n\u001b[0;32m----> 1\u001b[0m \u001b[43ml2\u001b[49m\u001b[38;5;241;43m.\u001b[39;49m\u001b[43msort\u001b[49m\u001b[43m(\u001b[49m\u001b[43m)\u001b[49m\n",
      "\u001b[0;31mTypeError\u001b[0m: '<' not supported between instances of 'float' and 'str'"
     ]
    }
   ],
   "source": [
    "l2.sort()\n",
    "# sorting will happen on homogenous data"
   ]
  },
  {
   "cell_type": "code",
   "execution_count": 226,
   "id": "59073773-fb58-4e02-b0fd-ffdd45e7fc5a",
   "metadata": {},
   "outputs": [],
   "source": [
    "l3 = [2,4,55,64,78,222,43,3.4]"
   ]
  },
  {
   "cell_type": "code",
   "execution_count": 227,
   "id": "d1d9d00d-3a6f-42ee-94c2-e2c8129922c7",
   "metadata": {},
   "outputs": [],
   "source": [
    "l3.sort()"
   ]
  },
  {
   "cell_type": "code",
   "execution_count": 228,
   "id": "b6968a80-1309-4aab-adcb-57dfb26c5c9b",
   "metadata": {},
   "outputs": [
    {
     "data": {
      "text/plain": [
       "[2, 3.4, 4, 43, 55, 64, 78, 222]"
      ]
     },
     "execution_count": 228,
     "metadata": {},
     "output_type": "execute_result"
    }
   ],
   "source": [
    "l3"
   ]
  },
  {
   "cell_type": "code",
   "execution_count": 260,
   "id": "5bdbb2d6-6ff2-4541-9669-a61d03bee1f1",
   "metadata": {},
   "outputs": [],
   "source": [
    "l4=['rohan','shinde','pooja']"
   ]
  },
  {
   "cell_type": "code",
   "execution_count": 261,
   "id": "8d96385c-c561-4b0f-81ba-07b259acfaca",
   "metadata": {},
   "outputs": [],
   "source": [
    "l4.sort()\n",
    "# by default sorting happen ascending order"
   ]
  },
  {
   "cell_type": "code",
   "execution_count": 262,
   "id": "08b57ef4-f87b-4963-bcb7-c22a19c8b2ae",
   "metadata": {},
   "outputs": [],
   "source": [
    "l4.sort(reverse=True)\n",
    "# sorting descending order"
   ]
  },
  {
   "cell_type": "code",
   "execution_count": 263,
   "id": "c043011c-2c86-457e-b2ee-3fdaa6a86181",
   "metadata": {},
   "outputs": [],
   "source": [
    "l0=[]"
   ]
  },
  {
   "cell_type": "code",
   "execution_count": 264,
   "id": "cc48ff5c-4c02-4bfd-b50b-06eaaf5569fe",
   "metadata": {},
   "outputs": [],
   "source": [
    "l4=['rohan','shinde','pooja']"
   ]
  },
  {
   "cell_type": "code",
   "execution_count": 265,
   "id": "f50feff4-5a55-41c7-8474-c0bd7c9d9e0b",
   "metadata": {},
   "outputs": [],
   "source": [
    "l0=l4"
   ]
  },
  {
   "cell_type": "code",
   "execution_count": 266,
   "id": "d8cde40f-32df-4b1b-8788-4244ec7d269c",
   "metadata": {},
   "outputs": [
    {
     "data": {
      "text/plain": [
       "['rohan', 'shinde', 'pooja']"
      ]
     },
     "execution_count": 266,
     "metadata": {},
     "output_type": "execute_result"
    }
   ],
   "source": [
    "l0"
   ]
  },
  {
   "cell_type": "code",
   "execution_count": 268,
   "id": "fd9fd8a6-ea7c-4daa-87c9-a675765ba96f",
   "metadata": {},
   "outputs": [],
   "source": [
    "l0[0] =22"
   ]
  },
  {
   "cell_type": "code",
   "execution_count": 269,
   "id": "11113bc1-66fc-46e0-81c5-25c64c5beed5",
   "metadata": {},
   "outputs": [
    {
     "data": {
      "text/plain": [
       "[22, 'shinde', 'pooja']"
      ]
     },
     "execution_count": 269,
     "metadata": {},
     "output_type": "execute_result"
    }
   ],
   "source": [
    "l0"
   ]
  },
  {
   "cell_type": "code",
   "execution_count": 270,
   "id": "bd17246f-10bd-486b-8c09-d66a448ca6ab",
   "metadata": {},
   "outputs": [
    {
     "data": {
      "text/plain": [
       "[22, 'shinde', 'pooja']"
      ]
     },
     "execution_count": 270,
     "metadata": {},
     "output_type": "execute_result"
    }
   ],
   "source": [
    "l4"
   ]
  },
  {
   "cell_type": "code",
   "execution_count": 271,
   "id": "8dc81741-e84a-47e3-9ae4-35058661e9ab",
   "metadata": {},
   "outputs": [],
   "source": [
    "l11=l4"
   ]
  },
  {
   "cell_type": "code",
   "execution_count": 272,
   "id": "97076a35-d98d-43ea-ac5d-7555ede9f16f",
   "metadata": {},
   "outputs": [
    {
     "data": {
      "text/plain": [
       "[22, 'shinde', 'pooja']"
      ]
     },
     "execution_count": 272,
     "metadata": {},
     "output_type": "execute_result"
    }
   ],
   "source": [
    "l11"
   ]
  },
  {
   "cell_type": "code",
   "execution_count": 273,
   "id": "4833fc56-5c69-428e-8330-f26a54b03a99",
   "metadata": {},
   "outputs": [],
   "source": [
    "l11[1]='@@@'"
   ]
  },
  {
   "cell_type": "code",
   "execution_count": 274,
   "id": "140077c4-2a11-4104-883a-2fe578b106e4",
   "metadata": {},
   "outputs": [
    {
     "data": {
      "text/plain": [
       "[22, '@@@', 'pooja']"
      ]
     },
     "execution_count": 274,
     "metadata": {},
     "output_type": "execute_result"
    }
   ],
   "source": [
    "l11"
   ]
  },
  {
   "cell_type": "code",
   "execution_count": 275,
   "id": "eaeebb2f-80e2-40c2-8db2-942ec43bd18f",
   "metadata": {},
   "outputs": [
    {
     "data": {
      "text/plain": [
       "[22, '@@@', 'pooja']"
      ]
     },
     "execution_count": 275,
     "metadata": {},
     "output_type": "execute_result"
    }
   ],
   "source": [
    "l4"
   ]
  },
  {
   "cell_type": "code",
   "execution_count": 276,
   "id": "0435856a-da6e-4c59-9f79-ab84a2d1c21f",
   "metadata": {},
   "outputs": [
    {
     "data": {
      "text/plain": [
       "[22, '@@@', 'pooja']"
      ]
     },
     "execution_count": 276,
     "metadata": {},
     "output_type": "execute_result"
    }
   ],
   "source": [
    "l0"
   ]
  },
  {
   "cell_type": "code",
   "execution_count": 277,
   "id": "fd41ab1d-5bd8-4c5e-aea9-7a6e2a3fe894",
   "metadata": {},
   "outputs": [],
   "source": [
    "lr= l4.copy()"
   ]
  },
  {
   "cell_type": "code",
   "execution_count": 278,
   "id": "a1b83763-490b-4a81-94bf-ead004e01bd3",
   "metadata": {},
   "outputs": [
    {
     "data": {
      "text/plain": [
       "[22, '@@@', 'pooja']"
      ]
     },
     "execution_count": 278,
     "metadata": {},
     "output_type": "execute_result"
    }
   ],
   "source": [
    "lr"
   ]
  },
  {
   "cell_type": "code",
   "execution_count": 279,
   "id": "8073d9b3-571b-497c-b6cd-9ad82273f81e",
   "metadata": {},
   "outputs": [],
   "source": [
    "l4[0]=77"
   ]
  },
  {
   "cell_type": "code",
   "execution_count": 280,
   "id": "06f8a5ad-8604-4b67-96fe-d4a16b758bf6",
   "metadata": {},
   "outputs": [
    {
     "data": {
      "text/plain": [
       "[77, '@@@', 'pooja']"
      ]
     },
     "execution_count": 280,
     "metadata": {},
     "output_type": "execute_result"
    }
   ],
   "source": [
    "l4"
   ]
  },
  {
   "cell_type": "code",
   "execution_count": 281,
   "id": "cdf83b5d-dd83-4585-acd6-98382cae2d2c",
   "metadata": {},
   "outputs": [
    {
     "data": {
      "text/plain": [
       "[22, '@@@', 'pooja']"
      ]
     },
     "execution_count": 281,
     "metadata": {},
     "output_type": "execute_result"
    }
   ],
   "source": [
    "lr"
   ]
  },
  {
   "cell_type": "code",
   "execution_count": 287,
   "id": "31758043-76c5-414f-8d2c-9fe8f4c5afc7",
   "metadata": {},
   "outputs": [
    {
     "data": {
      "text/plain": [
       "(2, 5, 7)"
      ]
     },
     "execution_count": 287,
     "metadata": {},
     "output_type": "execute_result"
    }
   ],
   "source": [
    "t1"
   ]
  },
  {
   "cell_type": "code",
   "execution_count": 288,
   "id": "dcc96cc5-b65b-4c42-9522-7755f3b46415",
   "metadata": {},
   "outputs": [
    {
     "data": {
      "text/plain": [
       "1"
      ]
     },
     "execution_count": 288,
     "metadata": {},
     "output_type": "execute_result"
    }
   ],
   "source": [
    "t1.count(2)"
   ]
  },
  {
   "cell_type": "code",
   "execution_count": 289,
   "id": "5e85158f-b786-48f4-a90d-e6865d6de390",
   "metadata": {},
   "outputs": [
    {
     "data": {
      "text/plain": [
       "0"
      ]
     },
     "execution_count": 289,
     "metadata": {},
     "output_type": "execute_result"
    }
   ],
   "source": [
    "t1.index(2)"
   ]
  },
  {
   "cell_type": "code",
   "execution_count": 290,
   "id": "8acf7160-aafb-489f-8ffb-3785663b9688",
   "metadata": {},
   "outputs": [],
   "source": [
    "s={3,4,54,5,6,66,3,3,3,8,3}"
   ]
  },
  {
   "cell_type": "code",
   "execution_count": 291,
   "id": "4af9dc1c-fede-4712-bb7c-4a4ade33a08e",
   "metadata": {},
   "outputs": [],
   "source": [
    "s.add(777)"
   ]
  },
  {
   "cell_type": "code",
   "execution_count": 292,
   "id": "6fdac163-66be-4c23-a914-9c8e6cb617cb",
   "metadata": {},
   "outputs": [
    {
     "data": {
      "text/plain": [
       "{3, 4, 5, 6, 8, 54, 66, 777}"
      ]
     },
     "execution_count": 292,
     "metadata": {},
     "output_type": "execute_result"
    }
   ],
   "source": [
    "s"
   ]
  },
  {
   "cell_type": "code",
   "execution_count": 293,
   "id": "b8f73b52-aa80-436a-a471-fde6ba291bee",
   "metadata": {},
   "outputs": [],
   "source": [
    "s.add(4)"
   ]
  },
  {
   "cell_type": "code",
   "execution_count": 294,
   "id": "94f35cc1-499e-4872-bed3-c9fc40a686d9",
   "metadata": {},
   "outputs": [
    {
     "data": {
      "text/plain": [
       "{3, 4, 5, 6, 8, 54, 66, 777}"
      ]
     },
     "execution_count": 294,
     "metadata": {},
     "output_type": "execute_result"
    }
   ],
   "source": [
    "s"
   ]
  },
  {
   "cell_type": "code",
   "execution_count": 295,
   "id": "5a9e7900-fe35-4710-9e27-95c73589a5e5",
   "metadata": {},
   "outputs": [],
   "source": [
    "s.discard(777)"
   ]
  },
  {
   "cell_type": "code",
   "execution_count": 296,
   "id": "6528f465-5cef-4ccc-b276-452a0469124c",
   "metadata": {},
   "outputs": [
    {
     "data": {
      "text/plain": [
       "{3, 4, 5, 6, 8, 54, 66}"
      ]
     },
     "execution_count": 296,
     "metadata": {},
     "output_type": "execute_result"
    }
   ],
   "source": [
    "s"
   ]
  },
  {
   "cell_type": "code",
   "execution_count": 297,
   "id": "f874bd67-14b5-4b29-b563-6d899dd46f5a",
   "metadata": {},
   "outputs": [
    {
     "data": {
      "text/plain": [
       "66"
      ]
     },
     "execution_count": 297,
     "metadata": {},
     "output_type": "execute_result"
    }
   ],
   "source": [
    "s.pop()"
   ]
  },
  {
   "cell_type": "code",
   "execution_count": 298,
   "id": "f863f2ae-3305-4fff-964b-5690720b84da",
   "metadata": {},
   "outputs": [
    {
     "data": {
      "text/plain": [
       "{3, 4, 5, 6, 8, 54}"
      ]
     },
     "execution_count": 298,
     "metadata": {},
     "output_type": "execute_result"
    }
   ],
   "source": [
    "s"
   ]
  },
  {
   "cell_type": "code",
   "execution_count": 299,
   "id": "623deab6-fd73-4280-ad88-4eb67652c7a2",
   "metadata": {},
   "outputs": [
    {
     "data": {
      "text/plain": [
       "3"
      ]
     },
     "execution_count": 299,
     "metadata": {},
     "output_type": "execute_result"
    }
   ],
   "source": [
    "s.pop()"
   ]
  },
  {
   "cell_type": "code",
   "execution_count": 300,
   "id": "3bb39727-ae89-4717-8e0c-681fe5f72d76",
   "metadata": {},
   "outputs": [
    {
     "data": {
      "text/plain": [
       "{4, 5, 6, 8, 54}"
      ]
     },
     "execution_count": 300,
     "metadata": {},
     "output_type": "execute_result"
    }
   ],
   "source": [
    "s"
   ]
  },
  {
   "cell_type": "code",
   "execution_count": 301,
   "id": "9bf0a1e5-a2b2-4dff-a92e-60987731c8a0",
   "metadata": {},
   "outputs": [],
   "source": [
    "s.remove(5) "
   ]
  },
  {
   "cell_type": "code",
   "execution_count": 302,
   "id": "b97dae86-e3d0-4f30-b3a0-63d5261c1c45",
   "metadata": {},
   "outputs": [
    {
     "data": {
      "text/plain": [
       "{4, 6, 8, 54}"
      ]
     },
     "execution_count": 302,
     "metadata": {},
     "output_type": "execute_result"
    }
   ],
   "source": [
    "s"
   ]
  },
  {
   "cell_type": "code",
   "execution_count": 306,
   "id": "30b7ef33-a89c-4451-a2b0-c8b812773740",
   "metadata": {},
   "outputs": [
    {
     "data": {
      "text/plain": [
       "{'name': 'rohan',\n",
       " 'age': 30,\n",
       " 'location': ['mumbai', 'taloja'],\n",
       " 'number': 4959494}"
      ]
     },
     "execution_count": 306,
     "metadata": {},
     "output_type": "execute_result"
    }
   ],
   "source": [
    "d1"
   ]
  },
  {
   "cell_type": "code",
   "execution_count": 307,
   "id": "2773c9ab-efc4-43f2-b062-41dbd14c2065",
   "metadata": {},
   "outputs": [
    {
     "data": {
      "text/plain": [
       "dict_keys(['name', 'age', 'location', 'number'])"
      ]
     },
     "execution_count": 307,
     "metadata": {},
     "output_type": "execute_result"
    }
   ],
   "source": [
    "d1.keys()"
   ]
  },
  {
   "cell_type": "code",
   "execution_count": 309,
   "id": "4ddd487a-1386-4afa-bd77-a5ea8f7370f6",
   "metadata": {},
   "outputs": [
    {
     "data": {
      "text/plain": [
       "['name', 'age', 'location', 'number']"
      ]
     },
     "execution_count": 309,
     "metadata": {},
     "output_type": "execute_result"
    }
   ],
   "source": [
    "list(d1.keys())"
   ]
  },
  {
   "cell_type": "code",
   "execution_count": 310,
   "id": "30ada035-c989-488d-86bf-d52da079f217",
   "metadata": {},
   "outputs": [
    {
     "data": {
      "text/plain": [
       "dict_values(['rohan', 30, ['mumbai', 'taloja'], 4959494])"
      ]
     },
     "execution_count": 310,
     "metadata": {},
     "output_type": "execute_result"
    }
   ],
   "source": [
    "d1.values()"
   ]
  },
  {
   "cell_type": "code",
   "execution_count": 311,
   "id": "427544f0-3983-462b-a13b-20877af70665",
   "metadata": {},
   "outputs": [
    {
     "data": {
      "text/plain": [
       "['rohan', 30, ['mumbai', 'taloja'], 4959494]"
      ]
     },
     "execution_count": 311,
     "metadata": {},
     "output_type": "execute_result"
    }
   ],
   "source": [
    "list(d1.values())"
   ]
  },
  {
   "cell_type": "code",
   "execution_count": 312,
   "id": "f15981df-8969-469d-aaf5-842a6f5ce0f9",
   "metadata": {},
   "outputs": [
    {
     "data": {
      "text/plain": [
       "dict_items([('name', 'rohan'), ('age', 30), ('location', ['mumbai', 'taloja']), ('number', 4959494)])"
      ]
     },
     "execution_count": 312,
     "metadata": {},
     "output_type": "execute_result"
    }
   ],
   "source": [
    "d1.items()"
   ]
  },
  {
   "cell_type": "code",
   "execution_count": 313,
   "id": "15936c26-b9d7-4562-ad93-f10b03aeb92a",
   "metadata": {},
   "outputs": [
    {
     "data": {
      "text/plain": [
       "[('name', 'rohan'),\n",
       " ('age', 30),\n",
       " ('location', ['mumbai', 'taloja']),\n",
       " ('number', 4959494)]"
      ]
     },
     "execution_count": 313,
     "metadata": {},
     "output_type": "execute_result"
    }
   ],
   "source": [
    "list(d1.items())"
   ]
  },
  {
   "cell_type": "code",
   "execution_count": 314,
   "id": "9eb8611b-d200-4616-940c-02b9e4321f8d",
   "metadata": {},
   "outputs": [
    {
     "data": {
      "text/plain": [
       "['mumbai', 'taloja']"
      ]
     },
     "execution_count": 314,
     "metadata": {},
     "output_type": "execute_result"
    }
   ],
   "source": [
    "d1.get('location')"
   ]
  },
  {
   "cell_type": "code",
   "execution_count": 315,
   "id": "a8fc5e8e-ff04-49bb-8d5d-5b69d5c1f59e",
   "metadata": {},
   "outputs": [
    {
     "data": {
      "text/plain": [
       "'rohan'"
      ]
     },
     "execution_count": 315,
     "metadata": {},
     "output_type": "execute_result"
    }
   ],
   "source": [
    "d1.get('name')"
   ]
  },
  {
   "cell_type": "code",
   "execution_count": 316,
   "id": "b3074573-ab1e-4d68-9510-230bd941ca75",
   "metadata": {},
   "outputs": [
    {
     "data": {
      "text/plain": [
       "{'name': 'rohan',\n",
       " 'age': 30,\n",
       " 'location': ['mumbai', 'taloja'],\n",
       " 'number': 4959494}"
      ]
     },
     "execution_count": 316,
     "metadata": {},
     "output_type": "execute_result"
    }
   ],
   "source": [
    "d1"
   ]
  },
  {
   "cell_type": "code",
   "execution_count": 318,
   "id": "b2c94e88-43a5-495a-a264-0112b9fbd14a",
   "metadata": {},
   "outputs": [
    {
     "data": {
      "text/plain": [
       "4959494"
      ]
     },
     "execution_count": 318,
     "metadata": {},
     "output_type": "execute_result"
    }
   ],
   "source": [
    "d1.pop('number')"
   ]
  },
  {
   "cell_type": "code",
   "execution_count": 319,
   "id": "2b418ab9-0b83-4561-8dc2-5b2d31bd7e83",
   "metadata": {},
   "outputs": [
    {
     "data": {
      "text/plain": [
       "{'name': 'rohan', 'age': 30, 'location': ['mumbai', 'taloja']}"
      ]
     },
     "execution_count": 319,
     "metadata": {},
     "output_type": "execute_result"
    }
   ],
   "source": [
    "d1"
   ]
  },
  {
   "cell_type": "code",
   "execution_count": 320,
   "id": "d7a7145a-3ce1-4247-8c98-23356b756ce1",
   "metadata": {},
   "outputs": [
    {
     "data": {
      "text/plain": [
       "30"
      ]
     },
     "execution_count": 320,
     "metadata": {},
     "output_type": "execute_result"
    }
   ],
   "source": [
    "d1.pop('age')"
   ]
  },
  {
   "cell_type": "code",
   "execution_count": 321,
   "id": "9eee48cb-851b-4a6e-bed8-1c3867649879",
   "metadata": {},
   "outputs": [
    {
     "data": {
      "text/plain": [
       "{'name': 'rohan', 'location': ['mumbai', 'taloja']}"
      ]
     },
     "execution_count": 321,
     "metadata": {},
     "output_type": "execute_result"
    }
   ],
   "source": [
    "d1"
   ]
  },
  {
   "cell_type": "code",
   "execution_count": 322,
   "id": "0943c403-30ce-4019-a983-dc3e3855c515",
   "metadata": {},
   "outputs": [],
   "source": [
    "d1['test']='eif'"
   ]
  },
  {
   "cell_type": "code",
   "execution_count": 323,
   "id": "771becdb-074e-40d5-bc20-582ac9dd0132",
   "metadata": {},
   "outputs": [
    {
     "data": {
      "text/plain": [
       "{'name': 'rohan', 'location': ['mumbai', 'taloja'], 'test': 'eif'}"
      ]
     },
     "execution_count": 323,
     "metadata": {},
     "output_type": "execute_result"
    }
   ],
   "source": [
    "d1"
   ]
  },
  {
   "cell_type": "code",
   "execution_count": null,
   "id": "29dc0e29-1915-478c-ba18-4384744b8c9c",
   "metadata": {},
   "outputs": [],
   "source": []
  }
 ],
 "metadata": {
  "kernelspec": {
   "display_name": "Python 3 (ipykernel)",
   "language": "python",
   "name": "python3"
  },
  "language_info": {
   "codemirror_mode": {
    "name": "ipython",
    "version": 3
   },
   "file_extension": ".py",
   "mimetype": "text/x-python",
   "name": "python",
   "nbconvert_exporter": "python",
   "pygments_lexer": "ipython3",
   "version": "3.10.8"
  }
 },
 "nbformat": 4,
 "nbformat_minor": 5
}
